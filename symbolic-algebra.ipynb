{
 "cells": [
  {
   "cell_type": "markdown",
   "metadata": {},
   "source": [
    "# Symbolic algebra"
   ]
  },
  {
   "cell_type": "markdown",
   "metadata": {},
   "source": [
    "## Introduction"
   ]
  },
  {
   "cell_type": "markdown",
   "metadata": {},
   "source": [
    "First, we need to import a library for symbolic computation. We'll be using\n",
    "`sympy` for this purpose. We'll also import `numpy` for a few comparisons.\n",
    "\n",
    "I recommend avoiding `from sympy import *` (even though this is used in the\n",
    "[`sympy` tutorial](http://docs.sympy.org/latest/tutorial/)), since we will\n",
    "want to use some functions, like `sqrt`, from both a symbolic and a numeric\n",
    "library."
   ]
  },
  {
   "cell_type": "code",
   "execution_count": 1,
   "metadata": {
    "collapsed": true
   },
   "outputs": [],
   "source": [
    "import numpy as np\n",
    "import sympy as sy"
   ]
  },
  {
   "cell_type": "markdown",
   "metadata": {},
   "source": [
    "Sometimes we have an exact expression that is corrupted by\n",
    "the numerical imprecision of a library like `numpy`. For example,\n",
    "consider $\\sqrt{3}$. `numpy` gives us a floating point approximation that doesn't\n",
    "have all the properties we might like:"
   ]
  },
  {
   "cell_type": "code",
   "execution_count": 2,
   "metadata": {
    "collapsed": false
   },
   "outputs": [
    {
     "data": {
      "text/plain": [
       "1.7320508075688772"
      ]
     },
     "execution_count": 2,
     "metadata": {},
     "output_type": "execute_result"
    }
   ],
   "source": [
    "np.sqrt(3)"
   ]
  },
  {
   "cell_type": "code",
   "execution_count": 3,
   "metadata": {
    "collapsed": false
   },
   "outputs": [
    {
     "data": {
      "text/plain": [
       "-4.4408920985006262e-16"
      ]
     },
     "execution_count": 3,
     "metadata": {},
     "output_type": "execute_result"
    }
   ],
   "source": [
    "np.sqrt(3)**2 - 3"
   ]
  },
  {
   "cell_type": "markdown",
   "metadata": {},
   "source": [
    "`sympy` gives us an object that has the properties we want:"
   ]
  },
  {
   "cell_type": "code",
   "execution_count": 4,
   "metadata": {
    "collapsed": false
   },
   "outputs": [
    {
     "data": {
      "text/plain": [
       "sqrt(3)"
      ]
     },
     "execution_count": 4,
     "metadata": {},
     "output_type": "execute_result"
    }
   ],
   "source": [
    "sy.sqrt(3)"
   ]
  },
  {
   "cell_type": "code",
   "execution_count": 5,
   "metadata": {
    "collapsed": false
   },
   "outputs": [
    {
     "data": {
      "text/plain": [
       "0"
      ]
     },
     "execution_count": 5,
     "metadata": {},
     "output_type": "execute_result"
    }
   ],
   "source": [
    "sy.sqrt(3)**2 - 3"
   ]
  },
  {
   "cell_type": "markdown",
   "metadata": {},
   "source": [
    "`sympy` is also capable of displaying expressions in a more human-friendly\n",
    "format."
   ]
  },
  {
   "cell_type": "code",
   "execution_count": 6,
   "metadata": {
    "collapsed": true
   },
   "outputs": [],
   "source": [
    "sy.init_printing()"
   ]
  },
  {
   "cell_type": "code",
   "execution_count": 7,
   "metadata": {
    "collapsed": false
   },
   "outputs": [
    {
     "data": {
      "image/png": "[encoded data removed]",
      "text/latex": [
       "$$\\sqrt{3}$$"
      ],
      "text/plain": [
       "√3"
      ]
     },
     "execution_count": 7,
     "metadata": {},
     "output_type": "execute_result"
    }
   ],
   "source": [
    "sy.sqrt(3)"
   ]
  },
  {
   "cell_type": "markdown",
   "metadata": {},
   "source": [
    "The real power of `sympy` is the ability to manipulate variables. Some computer algebra\n",
    "systems (CAS) allow the user to immediately input expressions with variables."
   ]
  },
  {
   "cell_type": "code",
   "execution_count": 8,
   "metadata": {
    "collapsed": false
   },
   "outputs": [
    {
     "ename": "NameError",
     "evalue": "name 'x' is not defined",
     "output_type": "error",
     "traceback": [
      "\u001b[0;31m---------------------------------------------------------------------------\u001b[0m",
      "\u001b[0;31mNameError\u001b[0m                                 Traceback (most recent call last)",
      "\u001b[0;32m<ipython-input-8-b50c5120e24b>\u001b[0m in \u001b[0;36m<module>\u001b[0;34m()\u001b[0m\n\u001b[0;32m----> 1\u001b[0;31m \u001b[0mx\u001b[0m \u001b[0;34m+\u001b[0m \u001b[0my\u001b[0m\u001b[0;34m\u001b[0m\u001b[0m\n\u001b[0m",
      "\u001b[0;31mNameError\u001b[0m: name 'x' is not defined"
     ]
    }
   ],
   "source": [
    "x + y"
   ]
  },
  {
   "cell_type": "markdown",
   "metadata": {},
   "source": [
    "Since `sympy` is used within a full Python programming environment, we need to do a little\n",
    "setup first and define some *Python* variables to function as our symbolic variables."
   ]
  },
  {
   "cell_type": "code",
   "execution_count": 9,
   "metadata": {
    "collapsed": false
   },
   "outputs": [
    {
     "data": {
      "image/png": "[encoded data removed]",
      "text/latex": [
       "$$\\left ( x, \\quad y, \\quad z\\right )$$"
      ],
      "text/plain": [
       "(x, y, z)"
      ]
     },
     "execution_count": 9,
     "metadata": {},
     "output_type": "execute_result"
    }
   ],
   "source": [
    "x, y, z = sy.symbols('x y z')\n",
    "x, y, z"
   ]
  },
  {
   "cell_type": "code",
   "execution_count": 10,
   "metadata": {
    "collapsed": false
   },
   "outputs": [
    {
     "data": {
      "image/png": "[encoded data removed]",
      "text/latex": [
       "$$x + y$$"
      ],
      "text/plain": [
       "x + y"
      ]
     },
     "execution_count": 10,
     "metadata": {},
     "output_type": "execute_result"
    }
   ],
   "source": [
    "x + y"
   ]
  },
  {
   "cell_type": "markdown",
   "metadata": {},
   "source": [
    "## Expressions"
   ]
  },
  {
   "cell_type": "markdown",
   "metadata": {},
   "source": [
    "We can make all kinds of expressions in `sympy` using both arithmetic operators from Python\n",
    "(to which `sympy` gives special meaning) and functions that `sympy` provides for us:"
   ]
  },
  {
   "cell_type": "code",
   "execution_count": 11,
   "metadata": {
    "collapsed": false
   },
   "outputs": [
    {
     "data": {
      "image/png": "[encoded data removed]",
      "text/latex": [
       "$$x y + z^{2}$$"
      ],
      "text/plain": [
       "       2\n",
       "x⋅y + z "
      ]
     },
     "execution_count": 11,
     "metadata": {},
     "output_type": "execute_result"
    }
   ],
   "source": [
    "x * y + z **2"
   ]
  },
  {
   "cell_type": "markdown",
   "metadata": {},
   "source": [
    "Just like with `sqrt`, `sympy` can hold exact values of `sin`, whereas `numpy` gives a floating-point\n",
    "approximation:"
   ]
  },
  {
   "cell_type": "code",
   "execution_count": 12,
   "metadata": {
    "collapsed": false
   },
   "outputs": [
    {
     "data": {
      "image/png": "[encoded data removed]",
      "text/latex": [
       "$$\\sin^{2}{\\left (x \\right )} + \\cos^{2}{\\left (x \\right )}$$"
      ],
      "text/plain": [
       "   2         2   \n",
       "sin (x) + cos (x)"
      ]
     },
     "execution_count": 12,
     "metadata": {},
     "output_type": "execute_result"
    }
   ],
   "source": [
    "sy.sin(x)**2 + sy.cos(x)**2"
   ]
  },
  {
   "cell_type": "code",
   "execution_count": 13,
   "metadata": {
    "collapsed": true
   },
   "outputs": [],
   "source": [
    "s2c2 = sy.sin(x)**2 + sy.cos(x)**2"
   ]
  },
  {
   "cell_type": "markdown",
   "metadata": {},
   "source": [
    "### Simplification"
   ]
  },
  {
   "cell_type": "markdown",
   "metadata": {},
   "source": [
    "A lot of times we want to manipulate an expression without changing what it represents. `sympy`\n",
    "has a variety of functions for doing this. `simplify` is the most generic:"
   ]
  },
  {
   "cell_type": "code",
   "execution_count": 14,
   "metadata": {
    "collapsed": false
   },
   "outputs": [
    {
     "data": {
      "image/png": "[encoded data removed]",
      "text/latex": [
       "$$1$$"
      ],
      "text/plain": [
       "1"
      ]
     },
     "execution_count": 14,
     "metadata": {},
     "output_type": "execute_result"
    }
   ],
   "source": [
    "sy.simplify(sy.sin(x)**2 + sy.cos(x)**2)"
   ]
  },
  {
   "cell_type": "code",
   "execution_count": 15,
   "metadata": {
    "collapsed": false
   },
   "outputs": [
    {
     "data": {
      "image/png": "[encoded data removed]",
      "text/latex": [
       "$$1$$"
      ],
      "text/plain": [
       "1"
      ]
     },
     "execution_count": 15,
     "metadata": {},
     "output_type": "execute_result"
    }
   ],
   "source": [
    "sy.simplify(s2c2)"
   ]
  },
  {
   "cell_type": "code",
   "execution_count": 16,
   "metadata": {
    "collapsed": false
   },
   "outputs": [
    {
     "data": {
      "text/plain": [
       "sympy.core.add.Add"
      ]
     },
     "execution_count": 16,
     "metadata": {},
     "output_type": "execute_result"
    }
   ],
   "source": [
    "type(s2c2)"
   ]
  },
  {
   "cell_type": "code",
   "execution_count": 17,
   "metadata": {
    "collapsed": false
   },
   "outputs": [
    {
     "data": {
      "text/plain": [
       "sympy.core.symbol.Symbol"
      ]
     },
     "execution_count": 17,
     "metadata": {},
     "output_type": "execute_result"
    }
   ],
   "source": [
    "type(x)"
   ]
  },
  {
   "cell_type": "markdown",
   "metadata": {},
   "source": [
    "Sometimes `sympy` doesn't automatically know what we mean by \"simple\", so there are functions to\n",
    "put expressions in particular forms. For instance, we might want to expand $(x+y)(x-y)$ to\n",
    "$x^2-y^2$:"
   ]
  },
  {
   "cell_type": "code",
   "execution_count": 18,
   "metadata": {
    "collapsed": false
   },
   "outputs": [
    {
     "data": {
      "image/png": "[encoded data removed]",
      "text/latex": [
       "$$\\left(x - y\\right) \\left(x + y\\right)$$"
      ],
      "text/plain": [
       "(x - y)⋅(x + y)"
      ]
     },
     "execution_count": 18,
     "metadata": {},
     "output_type": "execute_result"
    }
   ],
   "source": [
    "expr = (x + y) * (x - y)\n",
    "expr"
   ]
  },
  {
   "cell_type": "code",
   "execution_count": 19,
   "metadata": {
    "collapsed": false
   },
   "outputs": [
    {
     "data": {
      "image/png": "[encoded data removed]",
      "text/latex": [
       "$$\\left(x - y\\right) \\left(x + y\\right)$$"
      ],
      "text/plain": [
       "(x - y)⋅(x + y)"
      ]
     },
     "execution_count": 19,
     "metadata": {},
     "output_type": "execute_result"
    }
   ],
   "source": [
    "sy.simplify(expr)"
   ]
  },
  {
   "cell_type": "code",
   "execution_count": 20,
   "metadata": {
    "collapsed": false
   },
   "outputs": [
    {
     "data": {
      "image/png": "[encoded data removed]",
      "text/latex": [
       "$$x^{2} - y^{2}$$"
      ],
      "text/plain": [
       " 2    2\n",
       "x  - y "
      ]
     },
     "execution_count": 20,
     "metadata": {},
     "output_type": "execute_result"
    }
   ],
   "source": [
    "sy.expand(expr)"
   ]
  },
  {
   "cell_type": "markdown",
   "metadata": {},
   "source": [
    "We might also want to go the other way:"
   ]
  },
  {
   "cell_type": "code",
   "execution_count": 21,
   "metadata": {
    "collapsed": false
   },
   "outputs": [
    {
     "data": {
      "image/png": "[encoded data removed]",
      "text/latex": [
       "$$\\left(x - y\\right) \\left(x + y\\right)$$"
      ],
      "text/plain": [
       "(x - y)⋅(x + y)"
      ]
     },
     "execution_count": 21,
     "metadata": {},
     "output_type": "execute_result"
    }
   ],
   "source": [
    "sy.factor(x**2 - y**2)"
   ]
  },
  {
   "cell_type": "markdown",
   "metadata": {},
   "source": [
    "See more examples in the tutorial section\n",
    "[Simplification](http://docs.sympy.org/latest/tutorial/simplification.html)."
   ]
  },
  {
   "cell_type": "markdown",
   "metadata": {},
   "source": [
    "### Example: checking a phase"
   ]
  },
  {
   "cell_type": "markdown",
   "metadata": {},
   "source": [
    "Sometimes we want to verify properties of our expressions, e.g. show that the\n",
    "magnitude of a complex phase is 1. Let's set up some real variables $a$ and $b$\n",
    "for the real and imaginary parts of a complex number $c=a+ib$:"
   ]
  },
  {
   "cell_type": "code",
   "execution_count": 22,
   "metadata": {
    "collapsed": false
   },
   "outputs": [
    {
     "data": {
      "image/png": "[encoded data removed]",
      "text/latex": [
       "$$\\left ( a, \\quad b\\right )$$"
      ],
      "text/plain": [
       "(a, b)"
      ]
     },
     "execution_count": 22,
     "metadata": {},
     "output_type": "execute_result"
    }
   ],
   "source": [
    "a, b = sy.symbols('a b', real=True)\n",
    "a, b"
   ]
  },
  {
   "cell_type": "markdown",
   "metadata": {},
   "source": [
    "`sympy` knows that $a$ and $b$ are real, so they remain unchanged when we take their complex conjugates:"
   ]
  },
  {
   "cell_type": "code",
   "execution_count": 23,
   "metadata": {
    "collapsed": false
   },
   "outputs": [
    {
     "data": {
      "image/png": "[encoded data removed]",
      "text/latex": [
       "$$a$$"
      ],
      "text/plain": [
       "a"
      ]
     },
     "execution_count": 23,
     "metadata": {},
     "output_type": "execute_result"
    }
   ],
   "source": [
    "a.conjugate()"
   ]
  },
  {
   "cell_type": "code",
   "execution_count": 24,
   "metadata": {
    "collapsed": false
   },
   "outputs": [
    {
     "data": {
      "image/png": "[encoded data removed]",
      "text/latex": [
       "$$\\overline{x}$$"
      ],
      "text/plain": [
       "_\n",
       "x"
      ]
     },
     "execution_count": 24,
     "metadata": {},
     "output_type": "execute_result"
    }
   ],
   "source": [
    "x.conjugate()"
   ]
  },
  {
   "cell_type": "markdown",
   "metadata": {},
   "source": [
    "Let's express the phase of $a+bi$ using `sympy`:"
   ]
  },
  {
   "cell_type": "code",
   "execution_count": 25,
   "metadata": {
    "collapsed": false
   },
   "outputs": [
    {
     "data": {
      "image/png": "[encoded data removed]",
      "text/latex": [
       "$$a + i b$$"
      ],
      "text/plain": [
       "a + ⅈ⋅b"
      ]
     },
     "execution_count": 25,
     "metadata": {},
     "output_type": "execute_result"
    }
   ],
   "source": [
    "c = a + b * sy.I\n",
    "c"
   ]
  },
  {
   "cell_type": "code",
   "execution_count": 26,
   "metadata": {
    "collapsed": false
   },
   "outputs": [
    {
     "data": {
      "image/png": "[encoded data removed]",
      "text/latex": [
       "$$\\frac{a + i b}{\\sqrt{a^{2} + b^{2}}}$$"
      ],
      "text/plain": [
       "  a + ⅈ⋅b   \n",
       "────────────\n",
       "   _________\n",
       "  ╱  2    2 \n",
       "╲╱  a  + b  "
      ]
     },
     "execution_count": 26,
     "metadata": {},
     "output_type": "execute_result"
    }
   ],
   "source": [
    "phase = sy.simplify(c / sy.sqrt(c * c.conjugate()))\n",
    "phase"
   ]
  },
  {
   "cell_type": "markdown",
   "metadata": {},
   "source": [
    "A complex phase $\\omega$ has the property that $\\omega\\omega^*=1$. Let's see if\n",
    "our expression satisfies that property:"
   ]
  },
  {
   "cell_type": "code",
   "execution_count": 27,
   "metadata": {
    "collapsed": false
   },
   "outputs": [
    {
     "data": {
      "image/png": "[encoded data removed]",
      "text/latex": [
       "$$\\sqrt{a^{2} + b^{2}} \\overline{\\frac{1}{\\sqrt{a^{2} + b^{2}}}}$$"
      ],
      "text/plain": [
       "   _________ ____________\n",
       "  ╱  2    2       1      \n",
       "╲╱  a  + b  ⋅────────────\n",
       "                _________\n",
       "               ╱  2    2 \n",
       "             ╲╱  a  + b  "
      ]
     },
     "execution_count": 27,
     "metadata": {},
     "output_type": "execute_result"
    }
   ],
   "source": [
    "phase_mag = sy.simplify(phase * phase.conjugate())\n",
    "phase_mag"
   ]
  },
  {
   "cell_type": "markdown",
   "metadata": {},
   "source": [
    "`sympy` isn't realizing that $a^2+b^2$ is positive, and that therefore the conjugation doesn't do\n",
    "anything. We can take `sympy` by the hand and manually point this out, first defining a\n",
    "pair of expressions we know are equivalent:"
   ]
  },
  {
   "cell_type": "code",
   "execution_count": 28,
   "metadata": {
    "collapsed": false
   },
   "outputs": [
    {
     "data": {
      "image/png": "[encoded data removed]",
      "text/latex": [
       "$$\\left ( \\overline{\\frac{1}{\\sqrt{a^{2} + b^{2}}}}, \\quad \\frac{1}{\\sqrt{a^{2} + b^{2}}}\\right )$$"
      ],
      "text/plain": [
       "⎛____________              ⎞\n",
       "⎜     1             1      ⎟\n",
       "⎜────────────, ────────────⎟\n",
       "⎜   _________     _________⎟\n",
       "⎜  ╱  2    2     ╱  2    2 ⎟\n",
       "⎝╲╱  a  + b    ╲╱  a  + b  ⎠"
      ]
     },
     "execution_count": 28,
     "metadata": {},
     "output_type": "execute_result"
    }
   ],
   "source": [
    "subpair = ((1 / sy.sqrt(a**2 + b**2)).conjugate(),\n",
    "           1 / sy.sqrt(a**2 + b**2))\n",
    "subpair"
   ]
  },
  {
   "cell_type": "markdown",
   "metadata": {},
   "source": [
    "Then we can use `subs` to perform a substitution within our expression:"
   ]
  },
  {
   "cell_type": "code",
   "execution_count": 29,
   "metadata": {
    "collapsed": false
   },
   "outputs": [
    {
     "data": {
      "image/png": "[encoded data removed]",
      "text/latex": [
       "$$1$$"
      ],
      "text/plain": [
       "1"
      ]
     },
     "execution_count": 29,
     "metadata": {},
     "output_type": "execute_result"
    }
   ],
   "source": [
    "phase_mag.subs([subpair])"
   ]
  },
  {
   "cell_type": "markdown",
   "metadata": {},
   "source": [
    "Sometimes you can force `sympy` to make simplifications that may note be justified\n",
    "in general. For instance, you might think $x^zy^z$ should be the same as $(xy)^z$. It\n",
    "is when $x,y,z$ are real, but `sympy` doesn't currently know they're real:"
   ]
  },
  {
   "cell_type": "code",
   "execution_count": 30,
   "metadata": {
    "collapsed": false
   },
   "outputs": [
    {
     "data": {
      "image/png": "[encoded data removed]",
      "text/latex": [
       "$$0$$"
      ],
      "text/plain": [
       "0"
      ]
     },
     "execution_count": 30,
     "metadata": {},
     "output_type": "execute_result"
    }
   ],
   "source": [
    "sy.powsimp((x*y)**z - x**z * y**z, force=True)"
   ]
  },
  {
   "cell_type": "markdown",
   "metadata": {},
   "source": [
    "We can tell `sympy` to make simplifications that aren't justified in general by\n",
    "supplying `force=True` to the `powsimp` function:"
   ]
  },
  {
   "cell_type": "markdown",
   "metadata": {},
   "source": [
    "### Displaying expressions nicely"
   ]
  },
  {
   "cell_type": "markdown",
   "metadata": {},
   "source": [
    "Sometimes we want to display our expressions with a little more context that `sympy` spits out.\n",
    "We can use the rich HTML rendering system of jupyter notebooks together with the `latex`\n",
    "export functionality provided by `sympy` to make our notebooks legible."
   ]
  },
  {
   "cell_type": "code",
   "execution_count": 31,
   "metadata": {
    "collapsed": true
   },
   "outputs": [],
   "source": [
    "from IPython.display import HTML "
   ]
  },
  {
   "cell_type": "markdown",
   "metadata": {},
   "source": [
    "`latex` converts a `sympy` expression to LaTeX code:"
   ]
  },
  {
   "cell_type": "code",
   "execution_count": 32,
   "metadata": {
    "collapsed": false
   },
   "outputs": [
    {
     "data": {
      "text/plain": [
       "'\\\\frac{a + i b}{\\\\sqrt{a^{2} + b^{2}}}'"
      ]
     },
     "execution_count": 32,
     "metadata": {},
     "output_type": "execute_result"
    }
   ],
   "source": [
    "sy.latex(phase)"
   ]
  },
  {
   "cell_type": "markdown",
   "metadata": {},
   "source": [
    "If we want it rendered prettily, we need to wrap it in some math environment and explicitly use the\n",
    "`HTML` function to format it for our notebook:"
   ]
  },
  {
   "cell_type": "code",
   "execution_count": 33,
   "metadata": {
    "collapsed": false
   },
   "outputs": [
    {
     "data": {
      "text/html": [
       "$a + i b$"
      ],
      "text/plain": [
       "<IPython.core.display.HTML object>"
      ]
     },
     "execution_count": 33,
     "metadata": {},
     "output_type": "execute_result"
    }
   ],
   "source": [
    "HTML('$' + sy.latex(c) + '$')"
   ]
  },
  {
   "cell_type": "markdown",
   "metadata": {},
   "source": [
    "This is a little more verbose, but it allows us greater flexibilitym for instance adding\n",
    "context to printing out the value of $c$:"
   ]
  },
  {
   "cell_type": "code",
   "execution_count": 34,
   "metadata": {
    "collapsed": false
   },
   "outputs": [
    {
     "data": {
      "text/html": [
       "$c=a + i b$"
      ],
      "text/plain": [
       "<IPython.core.display.HTML object>"
      ]
     },
     "execution_count": 34,
     "metadata": {},
     "output_type": "execute_result"
    }
   ],
   "source": [
    "HTML('$c=' + sy.latex(c) + '$')"
   ]
  },
  {
   "cell_type": "markdown",
   "metadata": {},
   "source": [
    "We can even use advanced environments like align, but it will be helpful\n",
    "to use raw string literals so we don't have to worry about all the `\\`s:"
   ]
  },
  {
   "cell_type": "code",
   "execution_count": 35,
   "metadata": {
    "collapsed": false
   },
   "outputs": [
    {
     "data": {
      "text/html": [
       "\\begin{align}|c|&=\\sqrt{\\left(a - i b\\right) \\left(a + i b\\right)}\\\\ \\mathrm{sgn}(c)&=\\frac{a + i b}{\\sqrt{a^{2} + b^{2}}}\\end{align}"
      ],
      "text/plain": [
       "<IPython.core.display.HTML object>"
      ]
     },
     "execution_count": 35,
     "metadata": {},
     "output_type": "execute_result"
    }
   ],
   "source": [
    "HTML(r'\\begin{align}|c|&=' + sy.latex(sy.sqrt(c * c.conjugate())) + \n",
    "     r'\\\\ \\mathrm{sgn}(c)&=' + sy.latex(phase) + r'\\end{align}')"
   ]
  },
  {
   "cell_type": "markdown",
   "metadata": {},
   "source": [
    "You can also use this LaTeX in your paper. If you want to save the result of a calculation for\n",
    "future manipulation, however, it's best not to use LaTeX (since it can be ambiguous). `sympy`'s\n",
    "`srepr` function is better suited for this:"
   ]
  },
  {
   "cell_type": "code",
   "execution_count": 36,
   "metadata": {
    "collapsed": false
   },
   "outputs": [
    {
     "data": {
      "text/plain": [
       "\"Mul(Add(Symbol('a', real=True), Mul(I, Symbol('b', real=True))), Pow(Add(Pow(Symbol('a', real=True), Integer(2)), Pow(Symbol('b', real=True), Integer(2))), Rational(-1, 2)))\""
      ]
     },
     "execution_count": 36,
     "metadata": {},
     "output_type": "execute_result"
    }
   ],
   "source": [
    "saved_phase = sy.srepr(phase)\n",
    "saved_phase"
   ]
  },
  {
   "cell_type": "markdown",
   "metadata": {},
   "source": [
    "You can use `sympify` (not to be confused with `simplify`!) to convert an `srepr` string back to an expression:"
   ]
  },
  {
   "cell_type": "code",
   "execution_count": 37,
   "metadata": {
    "collapsed": false
   },
   "outputs": [
    {
     "data": {
      "image/png": "[encoded data removed]",
      "text/latex": [
       "$$\\frac{a + i b}{\\sqrt{a^{2} + b^{2}}}$$"
      ],
      "text/plain": [
       "  a + ⅈ⋅b   \n",
       "────────────\n",
       "   _________\n",
       "  ╱  2    2 \n",
       "╲╱  a  + b  "
      ]
     },
     "execution_count": 37,
     "metadata": {},
     "output_type": "execute_result"
    }
   ],
   "source": [
    "loaded_phase = sy.sympify(saved_phase)\n",
    "loaded_phase"
   ]
  },
  {
   "cell_type": "markdown",
   "metadata": {},
   "source": [
    "If you loaded an expression that has symbols you haven't defined yet,\n",
    "you can get the new symbols from the expression in a\n",
    "[set](https://docs.python.org/3/tutorial/datastructures.html#sets):"
   ]
  },
  {
   "cell_type": "code",
   "execution_count": 38,
   "metadata": {
    "collapsed": false
   },
   "outputs": [
    {
     "data": {
      "image/png": "[encoded data removed]",
      "text/latex": [
       "$$\\left\\{a, b\\right\\}$$"
      ],
      "text/plain": [
       "set([a, b])"
      ]
     },
     "execution_count": 38,
     "metadata": {},
     "output_type": "execute_result"
    }
   ],
   "source": [
    "loaded_phase.free_symbols"
   ]
  },
  {
   "cell_type": "markdown",
   "metadata": {},
   "source": [
    "You can also use [pickle](https://docs.python.org/3/library/pickle.html). I prefer\n",
    "`srepr`, since although it's increadibly verbose it is in principle interpretable by\n",
    "a human or other program without needing Python, whereas `pickle` is much more\n",
    "dependent on Python specifically."
   ]
  },
  {
   "cell_type": "markdown",
   "metadata": {},
   "source": [
    "# Calculus\n",
    "We can use computer algebra systems like `sympy` to do calculus. Here we will discuss, differentiation, integration and limits.\n",
    "\n",
    "## Differentiation\n",
    "\n",
    "First let us see `sympy` something simple. We know that the derivative of $e^{kx}$ with respect to $x$ is $k e^{kx}$. Let us see `sympy` do this. We take the following steps.\n",
    "\n",
    "- Define a symbol `x`\n",
    "- Define a symbol `k`\n",
    "- Define a variable `f` which has the expression we want, using `sympy.exp` for the exponential function and usual `*` for multiplication and `/` for division.\n",
    "- Use the function `sympy.diff` to differentiate `f` with respect to `x`.\n",
    "\n",
    "Next let us try something more complicated. Consider the function $V(r) = \\frac{C}{r}$, which is ubiquitous in physics. Let us imagine this is the electric potential of a point charge at the origin. We want the three Cartesian components of the Electric Field. We do this as follows.\n",
    "\n",
    "- Define symbols `x`, `y`, `z`\n",
    "- Define a symbol `r` using the function `sympy.sqrt`, that is `r = sympy.sqrt(x**2 + y**2 + z**2)`\n",
    "- Define a symbol `C`\n",
    "- Define `V` as the ratio of `C` and `r`.\n",
    "- Define `Ex` to be the derivative of `V` with respect to `x`\n",
    "- Define `Ey` to be the derivative of `V` with respect to `y`\n",
    "- Define `Ez` to be the derivative of `V` with respect to `z`\n",
    "- Display the values of `Ex`, `Ey` and `Ez` with the expression `(Ex, Ey, Ez)`\n"
   ]
  },
  {
   "cell_type": "code",
   "execution_count": 39,
   "metadata": {
    "collapsed": false
   },
   "outputs": [
    {
     "data": {
      "image/png": "[encoded data removed]",
      "text/latex": [
       "$$k e^{k x}$$"
      ],
      "text/plain": [
       "   k⋅x\n",
       "k⋅ℯ   "
      ]
     },
     "execution_count": 39,
     "metadata": {},
     "output_type": "execute_result"
    }
   ],
   "source": [
    "# Differentation of k*exp(k)\n",
    "x = sy.Symbol('x')\n",
    "k = sy.symbols('k')\n",
    "exp_kx = sy.exp(k*x)\n",
    "sy.diff(exp_kx, x)"
   ]
  },
  {
   "cell_type": "code",
   "execution_count": 40,
   "metadata": {
    "collapsed": false
   },
   "outputs": [
    {
     "data": {
      "image/png": "[encoded data removed]",
      "text/latex": [
       "$$\\left ( \\frac{C x}{\\left(x^{2} + y^{2} + z^{2}\\right)^{\\frac{3}{2}}}, \\quad \\frac{C y}{\\left(x^{2} + y^{2} + z^{2}\\right)^{\\frac{3}{2}}}, \\quad \\frac{C z}{\\left(x^{2} + y^{2} + z^{2}\\right)^{\\frac{3}{2}}}\\right )$$"
      ],
      "text/plain": [
       "⎛       C⋅x                C⋅y                C⋅z       ⎞\n",
       "⎜─────────────────, ─────────────────, ─────────────────⎟\n",
       "⎜              3/2                3/2                3/2⎟\n",
       "⎜⎛ 2    2    2⎞     ⎛ 2    2    2⎞     ⎛ 2    2    2⎞   ⎟\n",
       "⎝⎝x  + y  + z ⎠     ⎝x  + y  + z ⎠     ⎝x  + y  + z ⎠   ⎠"
      ]
     },
     "execution_count": 40,
     "metadata": {},
     "output_type": "execute_result"
    }
   ],
   "source": [
    "# Electric field of a point charge at the origin from the potential\n",
    "x, y, z = sy.symbols('x, y, z')\n",
    "r = sy.sqrt(x**2 + y**2 + z**2)\n",
    "C = sy.Symbol('C')\n",
    "V = C / r\n",
    "Ex = -sy.diff(V, x)\n",
    "Ey = -sy.diff(V, y)\n",
    "Ez = -sy.diff(V, z)\n",
    "(Ex, Ey, Ez)"
   ]
  },
  {
   "cell_type": "markdown",
   "metadata": {},
   "source": [
    "## Integration\n",
    "\n",
    "Computer algebra systems like `sympy` can perform definite and indefinite integration. \n",
    "\n",
    "First we look at definite integrals. Let us consider the is the following definite integral.\n",
    "$$\\int_{0}^{2\\pi} d\\phi (\\sin(\\phi))^2$$\n",
    "We know the answer is $\\pi$. Let us do this in `sympy`.\n",
    "\n",
    "We do this as follows.\n",
    "- Define a symbol `phi`\n",
    "- Define an expression `sin_sq` which uses `sympy.sin` to compute the sine of a function symbolically\n",
    "- Use `sympy.integrate` to integrate our function `sin_sq` with respect to `phi` from `0` to `2*sympy.pi`. Again, we denote the limits as `(phi, 0, 2*sympy.pi)`"
   ]
  },
  {
   "cell_type": "code",
   "execution_count": 41,
   "metadata": {
    "collapsed": false
   },
   "outputs": [
    {
     "data": {
      "image/png": "[encoded data removed]",
      "text/latex": [
       "$$\\pi$$"
      ],
      "text/plain": [
       "π"
      ]
     },
     "execution_count": 41,
     "metadata": {},
     "output_type": "execute_result"
    }
   ],
   "source": [
    "# Definite integraion of (sin(phi))^2\n",
    "phi = sy.symbols('phi')\n",
    "sin_sq = sy.sin(phi)**2\n",
    "sy.integrate(sin_sq, (phi, 0, 2*sy.pi))"
   ]
  },
  {
   "cell_type": "markdown",
   "metadata": {},
   "source": [
    "Next we consider indefinite integration. We consider the following indefinite integral.\n",
    "$$\\int d\\phi (\\sin(\\phi))^2$$\n",
    " \n",
    "Let us do this in `sympy`. We do this as follows.\n",
    "- Define a symbol `phi`\n",
    "- Define an expression `sin_sq` which uses `sympy.sin` to compute the sine of a function symbolically\n",
    "- Use `sympy.integrate` to integrate our function `sin_sq` with respect to `phi`. Again,  no limits are required as this is an an indefinite integral."
   ]
  },
  {
   "cell_type": "code",
   "execution_count": 42,
   "metadata": {
    "collapsed": false
   },
   "outputs": [
    {
     "data": {
      "image/png": "[encoded data removed]",
      "text/latex": [
       "$$\\frac{\\phi}{2} - \\frac{1}{2} \\sin{\\left (\\phi \\right )} \\cos{\\left (\\phi \\right )}$$"
      ],
      "text/plain": [
       "φ   sin(φ)⋅cos(φ)\n",
       "─ - ─────────────\n",
       "2         2      "
      ]
     },
     "execution_count": 42,
     "metadata": {},
     "output_type": "execute_result"
    }
   ],
   "source": [
    "# Indefinite integration of (sin(phi))^2\n",
    "phi = sy.symbols('phi')\n",
    "sin_sq = sy.sin(phi)**2\n",
    "sy.integrate(sin_sq, phi)"
   ]
  },
  {
   "cell_type": "markdown",
   "metadata": {},
   "source": [
    "# Quantum Mechanics Examples\n",
    "\n",
    "## Energy eigenfunctions for 1 dimensional harmonic oscillator\n",
    "\n",
    "Let us do some quantum mechanics. We consider a particle of mass $M$ in a one dimensional quantum harmonic oscillator of frequency $\\omega$. The Hamiltonian is $H = \\frac{\\hat{P}^2}{2M} + \\frac{M\\omega^2\\hat{Q}^2}{2}$, where $\\hat{P}$ and $\\hat{Q}$ are the momentum and position operators respectively.\n",
    "\n",
    "Choosing dimensionless momentum and position operators $\\hat{p} = \\sqrt{\\frac{1}{M\\hbar\\omega}} \\hat{P}$ and $\\hat{q} = \\sqrt{\\frac{M\\omega}{\\hbar}} \\hat{Q}$, the Hamiltonian becomes $H = \\frac{\\hbar\\omega}{2}(\\hat{p}^2 + \\hat{q}^2)$.\n",
    "\n",
    "Let $p$ and $p$ denote the eigenvalues of operators $\\hat{p}$ and $\\hat{q}$. Then the energy eigenfunctions in the position representation are $\\psi_n(q) = C_n H_n(q) \\exp\\left(-\\frac{1}{2}q^2\\right)$. Here $C_n$ is the normalization factor, which we can find by integrating over all $q$ and $H_n(q)$ is the $n^{\\text{th}}$ Hermite polynomial in $q$. Choosing a real $C_n$, we have\n",
    "\n",
    "$$C_n = \\left(\\int_{-\\infty}^{+\\infty}dq \\left|H_n(q) \\exp\\left(-\\frac{1}{2}q^2\\right)\\right|^2\\right)^{-1/2}$$\n",
    "\n",
    "Let us normalize some of the energy eigenfunctions. Let us consider $n = 4$. We do this as follows.\n",
    "- Define a variable `psi_un` denoting the unnormalizd function. Write `psi_un` using `sympy.special.polynomials.hermite` to get the $n^{\\text{th}}$ Hermite polynomial and `sympy.exp` to get the exponential factor.\n",
    "- Find `C_n` using the reciprocal of the square root of the integral of square of the absolute value of `psi_un`.\n",
    "    - Use `sympy.Abs` to get the absolute value of `psi_un`. Square this using `**2` to get the square of absolute value.\n",
    "    - Use `sympy.integrate` to integrate this over `x` from `- sympy.oo` to `+ sympy.oo`.\n",
    "    - Use this in an expression for `C_n`.\n",
    "- Write `psi` as a product of `C_n` and `psi_un`\n"
   ]
  },
  {
   "cell_type": "code",
   "execution_count": 43,
   "metadata": {
    "collapsed": false
   },
   "outputs": [
    {
     "data": {
      "image/png": "[encoded data removed]",
      "text/latex": [
       "$$\\frac{\\sqrt{6} e^{- \\frac{x^{2}}{2}}}{48 \\sqrt[4]{\\pi}} \\left(16 x^{4} - 48 x^{2} + 12\\right)$$"
      ],
      "text/plain": [
       "                           2 \n",
       "                         -x  \n",
       "                         ────\n",
       "   ⎛    4       2     ⎞   2  \n",
       "√6⋅⎝16⋅x  - 48⋅x  + 12⎠⋅ℯ    \n",
       "─────────────────────────────\n",
       "              4 ___          \n",
       "           48⋅╲╱ π           "
      ]
     },
     "execution_count": 43,
     "metadata": {},
     "output_type": "execute_result"
    }
   ],
   "source": [
    "# Normalization of 1 dimensional harmonic oscillator energy eigenfunctions\n",
    "n = 4\n",
    "x = sy.symbols('x')\n",
    "hermite_n = sy.hermite(n, x)\n",
    "psi_n_un = hermite_n * sy.exp(-x**2/2)\n",
    "psi_n_un_norm = sy.integrate(sy.Abs(psi_n_un)**2, (x, -sy.oo, +sy.oo))\n",
    "C_n = 1 / sy.sqrt(psi_n_un_norm)\n",
    "psi_n = C_n * psi_n_un\n",
    "psi_n"
   ]
  },
  {
   "cell_type": "markdown",
   "metadata": {},
   "source": [
    "We have a way of finding the normalized energy eigenfunctions for a specific $n$. It would be great if we can do this for arbitrary values of $n$. To that end, let us define a function `psi_sho` which returns the $n^{\\text{th}}$ energy eigenfunction (in both position and momentum representation as we are working with dimensionless position and momentum) using these ideas. We use a symbol `x`, which can be either `p` or `q`. We do this as follows.\n",
    "\n",
    "- Define a function which takes a symbol `x` and an integer `n` as input\n",
    "- Let `psi_un` be the unnormalized function. Write `psi_un` using `sympy.special.polynomials.hermite` to get the $n^{\\text{th}}$ Hermite polynomial and `sympy.exp` to get the exponential factor.\n",
    "- Find `C_n` using the reciprocal of the square root of the integral of square of the absolute value of `psi_un`.\n",
    "    - Use `sympy.Abs` to get the absolute value of `psi_un`. Square this using `**2` to get the square of absolute value.\n",
    "    - Use `sympy.integrate` to integrate this over `x` from `- sympy.oo` to `+ sympy.oo`.\n",
    "    - Use this in an expression for `C_n`.\n",
    "- Write `psi` as a product of `C_n` and `psi_un`\n",
    "- Return `psi`\n",
    "\n",
    "Now let us look at the expressions for the first few energy eigenfunctions. Let us do this using the code after the function we just defined. Go ahead and play with values inside the Python comprehension denoting the range of values for which to calculate the energy eigenfunctions."
   ]
  },
  {
   "cell_type": "code",
   "execution_count": 44,
   "metadata": {
    "collapsed": false
   },
   "outputs": [
    {
     "data": {
      "image/png": "[encoded data removed]",
      "text/latex": [
       "$$\\left [ \\frac{\\sqrt{154} e^{- \\frac{x^{2}}{2}}}{3548160 \\sqrt[4]{\\pi}} \\left(2048 x^{11} - 56320 x^{9} + 506880 x^{7} - 1774080 x^{5} + 2217600 x^{3} - 665280 x\\right), \\quad \\frac{\\sqrt{231} e^{- \\frac{x^{2}}{2}}}{21288960 \\sqrt[4]{\\pi}} \\left(4096 x^{12} - 135168 x^{10} + 1520640 x^{8} - 7096320 x^{6} + 13305600 x^{4} - 7983360 x^{2} + 665280\\right), \\quad \\frac{\\sqrt{6006} e^{- \\frac{x^{2}}{2}}}{553512960 \\sqrt[4]{\\pi}} \\left(8192 x^{13} - 319488 x^{11} + 4392960 x^{9} - 26357760 x^{7} + 69189120 x^{5} - 69189120 x^{3} + 17297280 x\\right), \\quad \\frac{\\sqrt{858} e^{- \\frac{x^{2}}{2}}}{1107025920 \\sqrt[4]{\\pi}} \\left(16384 x^{14} - 745472 x^{12} + 12300288 x^{10} - 92252160 x^{8} + 322882560 x^{6} - 484323840 x^{4} + 242161920 x^{2} - 17297280\\right), \\quad \\frac{\\sqrt{715} e^{- \\frac{x^{2}}{2}}}{5535129600 \\sqrt[4]{\\pi}} \\left(32768 x^{15} - 1720320 x^{13} + 33546240 x^{11} - 307507200 x^{9} + 1383782400 x^{7} - 2905943040 x^{5} + 2421619200 x^{3} - 518918400 x\\right)\\right ]$$"
      ],
      "text/plain": [
       "⎡                                                                             \n",
       "⎢                                                                             \n",
       "⎢                                                                             \n",
       "⎢     ⎛      11          9           7            5            3           ⎞  \n",
       "⎢√154⋅⎝2048⋅x   - 56320⋅x  + 506880⋅x  - 1774080⋅x  + 2217600⋅x  - 665280⋅x⎠⋅ℯ\n",
       "⎢─────────────────────────────────────────────────────────────────────────────\n",
       "⎢                                          4 ___                              \n",
       "⎣                                  3548160⋅╲╱ π                               \n",
       "\n",
       "  2                                                                           \n",
       "-x                                                                            \n",
       "────                                                                          \n",
       " 2         ⎛      12           10            8            6             4     \n",
       "      √231⋅⎝4096⋅x   - 135168⋅x   + 1520640⋅x  - 7096320⋅x  + 13305600⋅x  - 79\n",
       "────, ────────────────────────────────────────────────────────────────────────\n",
       "                                                        4 ___                 \n",
       "                                               21288960⋅╲╱ π                  \n",
       "\n",
       "                      2                                                       \n",
       "                    -x                                                        \n",
       "                    ────                                                      \n",
       "       2         ⎞   2          ⎛      13           11            9           \n",
       "83360⋅x  + 665280⎠⋅ℯ      √6006⋅⎝8192⋅x   - 319488⋅x   + 4392960⋅x  - 26357760\n",
       "────────────────────────, ────────────────────────────────────────────────────\n",
       "                                                                              \n",
       "                                                                      55351296\n",
       "\n",
       "                                                 2                            \n",
       "                                               -x                             \n",
       "                                               ────                           \n",
       "  7             5             3             ⎞   2         ⎛       14          \n",
       "⋅x  + 69189120⋅x  - 69189120⋅x  + 17297280⋅x⎠⋅ℯ      √858⋅⎝16384⋅x   - 745472⋅\n",
       "───────────────────────────────────────────────────, ─────────────────────────\n",
       "  4 ___                                                                       \n",
       "0⋅╲╱ π                                                                        \n",
       "\n",
       "                                                                              \n",
       "                                                                              \n",
       "                                                                              \n",
       " 12             10             8              6              4              2 \n",
       "x   + 12300288⋅x   - 92252160⋅x  + 322882560⋅x  - 484323840⋅x  + 242161920⋅x  \n",
       "──────────────────────────────────────────────────────────────────────────────\n",
       "                                      4 ___                                   \n",
       "                           1107025920⋅╲╱ π                                    \n",
       "\n",
       "               2                                                              \n",
       "             -x                                                               \n",
       "             ────                                                             \n",
       "          ⎞   2         ⎛       15            13             11              9\n",
       "- 17297280⎠⋅ℯ      √715⋅⎝32768⋅x   - 1720320⋅x   + 33546240⋅x   - 307507200⋅x \n",
       "─────────────────, ───────────────────────────────────────────────────────────\n",
       "                                                                              \n",
       "                                                                           553\n",
       "\n",
       "                                                                   2 ⎤\n",
       "                                                                 -x  ⎥\n",
       "                                                                 ────⎥\n",
       "               7               5               3              ⎞   2  ⎥\n",
       " + 1383782400⋅x  - 2905943040⋅x  + 2421619200⋅x  - 518918400⋅x⎠⋅ℯ    ⎥\n",
       "─────────────────────────────────────────────────────────────────────⎥\n",
       "        4 ___                                                        ⎥\n",
       "5129600⋅╲╱ π                                                         ⎦"
      ]
     },
     "execution_count": 44,
     "metadata": {},
     "output_type": "execute_result"
    }
   ],
   "source": [
    "# 1d Harmonic oscillator energy eigenfunctions.\n",
    "def psi_sho(n, x):\n",
    "    '''\n",
    "    Parameters\n",
    "    ----------\n",
    "    n: integer \n",
    "    Quantum number denoting which energy eigenfunction\n",
    "    \n",
    "    x: sympy.Symbol\n",
    "    Symbol denoting the dimensionless parameter which\n",
    "    is the argument of the energy eigenfunction\n",
    "    \n",
    "    Returns\n",
    "    -------\n",
    "    psi:\n",
    "    Expression representing the n th energy eigen function\n",
    "    '''\n",
    "    psi_un = sy.exp(-x**2/2) * sy.special.polynomials.hermite(n, x)\n",
    "    psi_un_norm = sy.integrate(sy.Abs(psi_un)**2, (x, -sy.oo, +sy.oo) )\n",
    "    C_n = 1/sy.sqrt(psi_un_norm)\n",
    "    \n",
    "    psi = C_n * psi_un\n",
    "    return psi\n",
    "    \n",
    "# Compute some of the Harmonic oscillator eigenfunctions functions\n",
    "x = sy.Symbol('x')\n",
    "[psi_sho(n, x) for n in range(11, 16)]"
   ]
  },
  {
   "cell_type": "markdown",
   "metadata": {},
   "source": [
    "## Finding eigenvalues of matrices"
   ]
  },
  {
   "cell_type": "markdown",
   "metadata": {},
   "source": [
    "### Tensor products"
   ]
  },
  {
   "cell_type": "markdown",
   "metadata": {},
   "source": [
    "Let's say I want to know the eigenvalues of $a_H+a_H^\\dagger$, where\n",
    "$a_H=\\sqrt{s^2+1}\\,\\sigma_-^{(1)}-s\\,\\sigma_+^{(2)}$."
   ]
  },
  {
   "cell_type": "markdown",
   "metadata": {},
   "source": [
    "First let's define the standard single-qubit vectors and operators $\\left|g\\right\\rangle$,\n",
    "$\\left|e\\right\\rangle$, $\\sigma_-=\\left|g\\middle\\rangle\\middle\\langle e\\right|$,\n",
    "$\\sigma_+=\\sigma_-^\\dagger$:"
   ]
  },
  {
   "cell_type": "code",
   "execution_count": 45,
   "metadata": {
    "collapsed": false
   },
   "outputs": [
    {
     "data": {
      "text/latex": [
       "$$\\left ( \\left[\\begin{matrix}0\\\\1\\end{matrix}\\right], \\quad \\left[\\begin{matrix}1\\\\0\\end{matrix}\\right]\\right )$$"
      ],
      "text/plain": [
       "⎛⎡0⎤, ⎡1⎤⎞\n",
       "⎜⎢ ⎥  ⎢ ⎥⎟\n",
       "⎝⎣1⎦  ⎣0⎦⎠"
      ]
     },
     "execution_count": 45,
     "metadata": {},
     "output_type": "execute_result"
    }
   ],
   "source": [
    "ket_g = sy.Matrix([0, 1])\n",
    "ket_e = sy.Matrix([1, 0])\n",
    "ket_g, ket_e"
   ]
  },
  {
   "cell_type": "code",
   "execution_count": 46,
   "metadata": {
    "collapsed": false
   },
   "outputs": [
    {
     "data": {
      "text/latex": [
       "$$\\left[\\begin{matrix}0 & 0\\\\1 & 0\\end{matrix}\\right]$$"
      ],
      "text/plain": [
       "⎡0  0⎤\n",
       "⎢    ⎥\n",
       "⎣1  0⎦"
      ]
     },
     "execution_count": 46,
     "metadata": {},
     "output_type": "execute_result"
    }
   ],
   "source": [
    "sm = ket_g * ket_e.H\n",
    "sm"
   ]
  },
  {
   "cell_type": "code",
   "execution_count": 47,
   "metadata": {
    "collapsed": false
   },
   "outputs": [
    {
     "data": {
      "text/html": [
       "$\\sigma_+=\\left[\\begin{matrix}0 & 1\\\\0 & 0\\end{matrix}\\right]$"
      ],
      "text/plain": [
       "<IPython.core.display.HTML object>"
      ]
     },
     "execution_count": 47,
     "metadata": {},
     "output_type": "execute_result"
    }
   ],
   "source": [
    "sp = sm.H\n",
    "HTML(r'$\\sigma_+=' + sy.latex(sp) + '$')"
   ]
  },
  {
   "cell_type": "markdown",
   "metadata": {},
   "source": [
    "We need a way to deal with tensor product structure for $\\sigma_\\pm^{(n)}$.\n",
    "Fortunately the `physics.quantum` module provides support for this:"
   ]
  },
  {
   "cell_type": "code",
   "execution_count": 48,
   "metadata": {
    "collapsed": true
   },
   "outputs": [],
   "source": [
    "from sympy.physics.quantum import TensorProduct"
   ]
  },
  {
   "cell_type": "code",
   "execution_count": 49,
   "metadata": {
    "collapsed": false
   },
   "outputs": [
    {
     "data": {
      "text/latex": [
       "$$\\left[\\begin{matrix}1 & 0\\\\0 & 1\\end{matrix}\\right]$$"
      ],
      "text/plain": [
       "⎡1  0⎤\n",
       "⎢    ⎥\n",
       "⎣0  1⎦"
      ]
     },
     "execution_count": 49,
     "metadata": {},
     "output_type": "execute_result"
    }
   ],
   "source": [
    "Id = sy.eye(2)\n",
    "Id"
   ]
  },
  {
   "cell_type": "code",
   "execution_count": 50,
   "metadata": {
    "collapsed": false
   },
   "outputs": [
    {
     "data": {
      "text/latex": [
       "$$\\left[\\begin{matrix}0 & 0 & 0 & 0\\\\0 & 0 & 0 & 0\\\\1 & 0 & 0 & 0\\\\0 & 1 & 0 & 0\\end{matrix}\\right]$$"
      ],
      "text/plain": [
       "⎡0  0  0  0⎤\n",
       "⎢          ⎥\n",
       "⎢0  0  0  0⎥\n",
       "⎢          ⎥\n",
       "⎢1  0  0  0⎥\n",
       "⎢          ⎥\n",
       "⎣0  1  0  0⎦"
      ]
     },
     "execution_count": 50,
     "metadata": {},
     "output_type": "execute_result"
    }
   ],
   "source": [
    "sm1 = TensorProduct(sm, Id)\n",
    "sm1"
   ]
  },
  {
   "cell_type": "code",
   "execution_count": 51,
   "metadata": {
    "collapsed": false
   },
   "outputs": [
    {
     "data": {
      "text/latex": [
       "$$\\left[\\begin{matrix}0 & 1 & 0 & 0\\\\0 & 0 & 0 & 0\\\\0 & 0 & 0 & 1\\\\0 & 0 & 0 & 0\\end{matrix}\\right]$$"
      ],
      "text/plain": [
       "⎡0  1  0  0⎤\n",
       "⎢          ⎥\n",
       "⎢0  0  0  0⎥\n",
       "⎢          ⎥\n",
       "⎢0  0  0  1⎥\n",
       "⎢          ⎥\n",
       "⎣0  0  0  0⎦"
      ]
     },
     "execution_count": 51,
     "metadata": {},
     "output_type": "execute_result"
    }
   ],
   "source": [
    "sp2 = TensorProduct(Id, sp)\n",
    "sp2"
   ]
  },
  {
   "cell_type": "markdown",
   "metadata": {},
   "source": [
    "Then we make a symbol for $s$ and build $a_H=\\sqrt{s^2+1}\\,\\sigma_-^{(1)}-s\\,\\sigma_+^{(2)}$\n",
    "and $X_H=a_H+a_H^\\dagger$:"
   ]
  },
  {
   "cell_type": "code",
   "execution_count": 52,
   "metadata": {
    "collapsed": false
   },
   "outputs": [
    {
     "data": {
      "image/png": "[encoded data removed]",
      "text/latex": [
       "$$s$$"
      ],
      "text/plain": [
       "s"
      ]
     },
     "execution_count": 52,
     "metadata": {},
     "output_type": "execute_result"
    }
   ],
   "source": [
    "s = sy.symbols('s', positive=True)\n",
    "s"
   ]
  },
  {
   "cell_type": "code",
   "execution_count": 53,
   "metadata": {
    "collapsed": false
   },
   "outputs": [
    {
     "data": {
      "text/latex": [
       "$$\\left[\\begin{matrix}0 & - s & 0 & 0\\\\0 & 0 & 0 & 0\\\\\\sqrt{s^{2} + 1} & 0 & 0 & - s\\\\0 & \\sqrt{s^{2} + 1} & 0 & 0\\end{matrix}\\right]$$"
      ],
      "text/plain": [
       "⎡     0           -s       0  0 ⎤\n",
       "⎢                               ⎥\n",
       "⎢     0            0       0  0 ⎥\n",
       "⎢                               ⎥\n",
       "⎢   ________                    ⎥\n",
       "⎢  ╱  2                         ⎥\n",
       "⎢╲╱  s  + 1        0       0  -s⎥\n",
       "⎢                               ⎥\n",
       "⎢                ________       ⎥\n",
       "⎢               ╱  2            ⎥\n",
       "⎣     0       ╲╱  s  + 1   0  0 ⎦"
      ]
     },
     "execution_count": 53,
     "metadata": {},
     "output_type": "execute_result"
    }
   ],
   "source": [
    "aH = sy.sqrt(s**2 + 1) * sm1 - s * sp2\n",
    "aH"
   ]
  },
  {
   "cell_type": "code",
   "execution_count": 54,
   "metadata": {
    "collapsed": false
   },
   "outputs": [
    {
     "data": {
      "text/latex": [
       "$$\\left[\\begin{matrix}0 & - s & \\sqrt{s^{2} + 1} & 0\\\\- s & 0 & 0 & \\sqrt{s^{2} + 1}\\\\\\sqrt{s^{2} + 1} & 0 & 0 & - s\\\\0 & \\sqrt{s^{2} + 1} & - s & 0\\end{matrix}\\right]$$"
      ],
      "text/plain": [
       "⎡                             ________             ⎤\n",
       "⎢                            ╱  2                  ⎥\n",
       "⎢     0           -s       ╲╱  s  + 1        0     ⎥\n",
       "⎢                                                  ⎥\n",
       "⎢                                          ________⎥\n",
       "⎢                                         ╱  2     ⎥\n",
       "⎢    -s            0            0       ╲╱  s  + 1 ⎥\n",
       "⎢                                                  ⎥\n",
       "⎢   ________                                       ⎥\n",
       "⎢  ╱  2                                            ⎥\n",
       "⎢╲╱  s  + 1        0            0           -s     ⎥\n",
       "⎢                                                  ⎥\n",
       "⎢                ________                          ⎥\n",
       "⎢               ╱  2                               ⎥\n",
       "⎣     0       ╲╱  s  + 1       -s            0     ⎦"
      ]
     },
     "execution_count": 54,
     "metadata": {},
     "output_type": "execute_result"
    }
   ],
   "source": [
    "XH = aH + aH.H\n",
    "XH"
   ]
  },
  {
   "cell_type": "markdown",
   "metadata": {},
   "source": [
    "We can display $X_H$ with some context using `HTML`:"
   ]
  },
  {
   "cell_type": "code",
   "execution_count": 55,
   "metadata": {
    "collapsed": false
   },
   "outputs": [
    {
     "data": {
      "text/html": [
       "$X_H=\\left[\\begin{matrix}0 & - s & \\sqrt{s^{2} + 1} & 0\\\\- s & 0 & 0 & \\sqrt{s^{2} + 1}\\\\\\sqrt{s^{2} + 1} & 0 & 0 & - s\\\\0 & \\sqrt{s^{2} + 1} & - s & 0\\end{matrix}\\right]$"
      ],
      "text/plain": [
       "<IPython.core.display.HTML object>"
      ]
     },
     "execution_count": 55,
     "metadata": {},
     "output_type": "execute_result"
    }
   ],
   "source": [
    "HTML(r'$X_H=' + sy.latex(XH) + '$')"
   ]
  },
  {
   "cell_type": "markdown",
   "metadata": {},
   "source": [
    "Now we are ready to solve for eigenvalues and eigenvectors:"
   ]
  },
  {
   "cell_type": "code",
   "execution_count": 56,
   "metadata": {
    "collapsed": false
   },
   "outputs": [
    {
     "data": {
      "image/png": "[encoded data removed]",
      "text/latex": [
       "$$\\left \\{ - s - \\sqrt{s^{2} + 1} : 1, \\quad - s + \\sqrt{s^{2} + 1} : 1, \\quad s - \\sqrt{s^{2} + 1} : 1, \\quad s + \\sqrt{s^{2} + 1} : 1\\right \\}$$"
      ],
      "text/plain": [
       "⎧        ________             ________            ________            ________\n",
       "⎨       ╱  2                 ╱  2                ╱  2                ╱  2     \n",
       "⎩-s - ╲╱  s  + 1 : 1, -s + ╲╱  s  + 1 : 1, s - ╲╱  s  + 1 : 1, s + ╲╱  s  + 1 \n",
       "\n",
       "   ⎫\n",
       "   ⎬\n",
       ": 1⎭"
      ]
     },
     "execution_count": 56,
     "metadata": {},
     "output_type": "execute_result"
    }
   ],
   "source": [
    "XH.eigenvals()"
   ]
  },
  {
   "cell_type": "code",
   "execution_count": 57,
   "metadata": {
    "collapsed": true
   },
   "outputs": [],
   "source": [
    "eigendecomp = XH.eigenvects()"
   ]
  },
  {
   "cell_type": "code",
   "execution_count": 58,
   "metadata": {
    "collapsed": false
   },
   "outputs": [
    {
     "data": {
      "text/latex": [
       "$$\\left [ \\left[\\begin{matrix}-1\\\\-1\\\\1\\\\1\\end{matrix}\\right], \\quad \\left[\\begin{matrix}1\\\\1\\\\1\\\\1\\end{matrix}\\right], \\quad \\left[\\begin{matrix}1\\\\-1\\\\-1\\\\1\\end{matrix}\\right], \\quad \\left[\\begin{matrix}-1\\\\1\\\\-1\\\\1\\end{matrix}\\right]\\right ]$$"
      ],
      "text/plain": [
       "⎡⎡-1⎤, ⎡1⎤, ⎡1 ⎤, ⎡-1⎤⎤\n",
       "⎢⎢  ⎥  ⎢ ⎥  ⎢  ⎥  ⎢  ⎥⎥\n",
       "⎢⎢-1⎥  ⎢1⎥  ⎢-1⎥  ⎢1 ⎥⎥\n",
       "⎢⎢  ⎥  ⎢ ⎥  ⎢  ⎥  ⎢  ⎥⎥\n",
       "⎢⎢1 ⎥  ⎢1⎥  ⎢-1⎥  ⎢-1⎥⎥\n",
       "⎢⎢  ⎥  ⎢ ⎥  ⎢  ⎥  ⎢  ⎥⎥\n",
       "⎣⎣1 ⎦  ⎣1⎦  ⎣1 ⎦  ⎣1 ⎦⎦"
      ]
     },
     "execution_count": 58,
     "metadata": {},
     "output_type": "execute_result"
    }
   ],
   "source": [
    "eigenvectors = [sy.simplify(element[2][0]) for element in eigendecomp]\n",
    "eigenvectors"
   ]
  },
  {
   "cell_type": "markdown",
   "metadata": {},
   "source": [
    "### State update"
   ]
  },
  {
   "cell_type": "markdown",
   "metadata": {},
   "source": [
    "Suppose we have Kraus operators $K_\\pm=\\frac{1}{2}(I\\pm\\epsilon\\sigma_z)$,\n",
    "and we want to know what our updated state"
   ]
  },
  {
   "cell_type": "markdown",
   "metadata": {},
   "source": [
    "\\begin{align}\n",
    "    \\rho_\\pm&=\\frac{K_\\pm\\rho K_\\pm^\\dagger}{\\operatorname{tr}[K_\\pm^\\dagger K_\\pm\\rho]}\n",
    "\\end{align}"
   ]
  },
  {
   "cell_type": "markdown",
   "metadata": {},
   "source": [
    "will look like."
   ]
  },
  {
   "cell_type": "markdown",
   "metadata": {},
   "source": [
    "First let's define Pauli operators"
   ]
  },
  {
   "cell_type": "markdown",
   "metadata": {},
   "source": [
    "\\begin{align}\n",
    "    \\sigma_x&=\\sigma_++\\sigma_- \\\\\n",
    "    \\sigma_y&=-i\\sigma_++i\\sigma_- \\\\\n",
    "    \\sigma_z&=I-2\\sigma_-\\sigma_+\n",
    "\\end{align}"
   ]
  },
  {
   "cell_type": "code",
   "execution_count": 59,
   "metadata": {
    "collapsed": false
   },
   "outputs": [
    {
     "data": {
      "text/latex": [
       "$$\\left ( \\left[\\begin{matrix}0 & 1\\\\1 & 0\\end{matrix}\\right], \\quad \\left[\\begin{matrix}0 & - i\\\\i & 0\\end{matrix}\\right], \\quad \\left[\\begin{matrix}1 & 0\\\\0 & -1\\end{matrix}\\right]\\right )$$"
      ],
      "text/plain": [
       "⎛⎡0  1⎤, ⎡0  -ⅈ⎤, ⎡1  0 ⎤⎞\n",
       "⎜⎢    ⎥  ⎢     ⎥  ⎢     ⎥⎟\n",
       "⎝⎣1  0⎦  ⎣ⅈ  0 ⎦  ⎣0  -1⎦⎠"
      ]
     },
     "execution_count": 59,
     "metadata": {},
     "output_type": "execute_result"
    }
   ],
   "source": [
    "X = sp + sm\n",
    "Y = -sy.I * sp + sy.I * sm\n",
    "Z = Id - 2 * sm * sp\n",
    "X, Y, Z"
   ]
  },
  {
   "cell_type": "markdown",
   "metadata": {},
   "source": [
    "Then build $\\rho$ and $K_\\pm$ out of these operators."
   ]
  },
  {
   "cell_type": "code",
   "execution_count": 60,
   "metadata": {
    "collapsed": false
   },
   "outputs": [
    {
     "data": {
      "text/latex": [
       "$$\\left ( \\left[\\begin{matrix}\\frac{z}{2} + \\frac{1}{2} & \\frac{x}{2} - \\frac{i y}{2}\\\\\\frac{x}{2} + \\frac{i y}{2} & - \\frac{z}{2} + \\frac{1}{2}\\end{matrix}\\right], \\quad \\left[\\begin{matrix}\\frac{\\epsilon}{2} + \\frac{1}{2} & 0\\\\0 & - \\frac{\\epsilon}{2} + \\frac{1}{2}\\end{matrix}\\right], \\quad \\left[\\begin{matrix}- \\frac{\\epsilon}{2} + \\frac{1}{2} & 0\\\\0 & \\frac{\\epsilon}{2} + \\frac{1}{2}\\end{matrix}\\right]\\right )$$"
      ],
      "text/plain": [
       "⎛⎡ z   1   x   ⅈ⋅y⎤  ⎡ε   1         ⎤  ⎡  ε   1       ⎤⎞\n",
       "⎜⎢ ─ + ─   ─ - ───⎥, ⎢─ + ─     0   ⎥, ⎢- ─ + ─    0  ⎥⎟\n",
       "⎜⎢ 2   2   2    2 ⎥  ⎢2   2         ⎥  ⎢  2   2       ⎥⎟\n",
       "⎜⎢                ⎥  ⎢              ⎥  ⎢              ⎥⎟\n",
       "⎜⎢x   ⅈ⋅y    z   1⎥  ⎢         ε   1⎥  ⎢         ε   1⎥⎟\n",
       "⎜⎢─ + ───  - ─ + ─⎥  ⎢  0    - ─ + ─⎥  ⎢   0     ─ + ─⎥⎟\n",
       "⎝⎣2    2     2   2⎦  ⎣         2   2⎦  ⎣         2   2⎦⎠"
      ]
     },
     "execution_count": 60,
     "metadata": {},
     "output_type": "execute_result"
    }
   ],
   "source": [
    "x, y, z = sy.symbols('x y z', real=True)\n",
    "eps = sy.symbols('epsilon', positive=True)\n",
    "\n",
    "rho = (Id + x * X + y * Y + z * Z) / 2\n",
    "Kp = (Id + eps * Z) / 2\n",
    "Km = (Id - eps * Z) / 2\n",
    "\n",
    "rho, Kp, Km"
   ]
  },
  {
   "cell_type": "markdown",
   "metadata": {},
   "source": [
    "Finally, calculate the state update:"
   ]
  },
  {
   "cell_type": "code",
   "execution_count": 61,
   "metadata": {
    "collapsed": false
   },
   "outputs": [
    {
     "data": {
      "text/latex": [
       "$$\\left[\\begin{matrix}- \\frac{\\left(\\epsilon + 1\\right)^{2} \\left(z + 1\\right)}{\\left(\\epsilon - 1\\right)^{2} \\left(z - 1\\right) - \\left(\\epsilon + 1\\right)^{2} \\left(z + 1\\right)} & \\frac{\\left(\\epsilon - 1\\right) \\left(\\epsilon + 1\\right) \\left(x - i y\\right)}{\\left(\\epsilon - 1\\right)^{2} \\left(z - 1\\right) - \\left(\\epsilon + 1\\right)^{2} \\left(z + 1\\right)}\\\\\\frac{\\left(\\epsilon - 1\\right) \\left(\\epsilon + 1\\right) \\left(x + i y\\right)}{\\left(\\epsilon - 1\\right)^{2} \\left(z - 1\\right) - \\left(\\epsilon + 1\\right)^{2} \\left(z + 1\\right)} & \\frac{\\left(\\epsilon - 1\\right)^{2} \\left(z - 1\\right)}{\\left(\\epsilon - 1\\right)^{2} \\left(z - 1\\right) - \\left(\\epsilon + 1\\right)^{2} \\left(z + 1\\right)}\\end{matrix}\\right]$$"
      ],
      "text/plain": [
       "⎡                 2                                                      ⎤\n",
       "⎢         -(ε + 1) ⋅(z + 1)                (ε - 1)⋅(ε + 1)⋅(x - ⅈ⋅y)     ⎥\n",
       "⎢───────────────────────────────────  ───────────────────────────────────⎥\n",
       "⎢       2                  2                 2                  2        ⎥\n",
       "⎢(ε - 1) ⋅(z - 1) - (ε + 1) ⋅(z + 1)  (ε - 1) ⋅(z - 1) - (ε + 1) ⋅(z + 1)⎥\n",
       "⎢                                                                        ⎥\n",
       "⎢                                                      2                 ⎥\n",
       "⎢     (ε - 1)⋅(ε + 1)⋅(x + ⅈ⋅y)                 (ε - 1) ⋅(z - 1)         ⎥\n",
       "⎢───────────────────────────────────  ───────────────────────────────────⎥\n",
       "⎢       2                  2                 2                  2        ⎥\n",
       "⎣(ε - 1) ⋅(z - 1) - (ε + 1) ⋅(z + 1)  (ε - 1) ⋅(z - 1) - (ε + 1) ⋅(z + 1)⎦"
      ]
     },
     "execution_count": 61,
     "metadata": {},
     "output_type": "execute_result"
    }
   ],
   "source": [
    "rho_p = sy.simplify(Kp.H * rho * Kp / sy.trace(Kp.H * Kp * rho))\n",
    "rho_p"
   ]
  },
  {
   "cell_type": "markdown",
   "metadata": {},
   "source": [
    "If $\\epsilon$ is small, we might only want to keep track of terms up to a certain\n",
    "order in $\\epsilon$. Let's expand the denominator to second order in $\\epsilon$\n",
    "using `series`:"
   ]
  },
  {
   "cell_type": "code",
   "execution_count": 62,
   "metadata": {
    "collapsed": false
   },
   "outputs": [
    {
     "data": {
      "image/png": "[encoded data removed]",
      "text/latex": [
       "$$4 - 8 \\epsilon z + \\epsilon^{2} \\left(16 z^{2} - 4\\right) + \\mathcal{O}\\left(\\epsilon^{3}\\right)$$"
      ],
      "text/plain": [
       "             2 ⎛    2    ⎞    ⎛ 3⎞\n",
       "4 - 8⋅ε⋅z + ε ⋅⎝16⋅z  - 4⎠ + O⎝ε ⎠"
      ]
     },
     "execution_count": 62,
     "metadata": {},
     "output_type": "execute_result"
    }
   ],
   "source": [
    "denom_series = sy.series(1 / sy.trace(Kp.H * Kp * rho), eps, n=3)\n",
    "denom_series"
   ]
  },
  {
   "cell_type": "markdown",
   "metadata": {},
   "source": [
    "The numerator is already only second order in $\\epsilon$:"
   ]
  },
  {
   "cell_type": "code",
   "execution_count": 63,
   "metadata": {
    "collapsed": false
   },
   "outputs": [
    {
     "data": {
      "text/latex": [
       "$$\\left[\\begin{matrix}\\frac{\\epsilon^{2} z}{8} + \\frac{\\epsilon^{2}}{8} + \\frac{\\epsilon z}{4} + \\frac{\\epsilon}{4} + \\frac{z}{8} + \\frac{1}{8} & - \\frac{\\epsilon^{2} x}{8} + \\frac{i y}{8} \\epsilon^{2} + \\frac{x}{8} - \\frac{i y}{8}\\\\- \\frac{\\epsilon^{2} x}{8} - \\frac{i y}{8} \\epsilon^{2} + \\frac{x}{8} + \\frac{i y}{8} & - \\frac{\\epsilon^{2} z}{8} + \\frac{\\epsilon^{2}}{8} + \\frac{\\epsilon z}{4} - \\frac{\\epsilon}{4} - \\frac{z}{8} + \\frac{1}{8}\\end{matrix}\\right]$$"
      ],
      "text/plain": [
       "⎡ 2      2                         2        2              ⎤\n",
       "⎢ε ⋅z   ε    ε⋅z   ε   z   1      ε ⋅x   ⅈ⋅ε ⋅y   x   ⅈ⋅y  ⎥\n",
       "⎢──── + ── + ─── + ─ + ─ + ─    - ──── + ────── + ─ - ───  ⎥\n",
       "⎢ 8     8     4    4   8   8       8       8      8    8   ⎥\n",
       "⎢                                                          ⎥\n",
       "⎢    2        2                  2      2                  ⎥\n",
       "⎢   ε ⋅x   ⅈ⋅ε ⋅y   x   ⅈ⋅y     ε ⋅z   ε    ε⋅z   ε   z   1⎥\n",
       "⎢ - ──── - ────── + ─ + ───   - ──── + ── + ─── - ─ - ─ + ─⎥\n",
       "⎣    8       8      8    8       8     8     4    4   8   8⎦"
      ]
     },
     "execution_count": 63,
     "metadata": {},
     "output_type": "execute_result"
    }
   ],
   "source": [
    "numerator = sy.expand(Kp.H * rho * Kp, eps)\n",
    "numerator"
   ]
  },
  {
   "cell_type": "markdown",
   "metadata": {},
   "source": [
    "When we multiply the two terms together, the $\\mathcal{O}(\\epsilon^3)$ term swallows up\n",
    "higher order products automatically:"
   ]
  },
  {
   "cell_type": "code",
   "execution_count": 64,
   "metadata": {
    "collapsed": false
   },
   "outputs": [
    {
     "data": {
      "text/latex": [
       "$$\\left[\\begin{matrix}\\frac{1}{2} + \\frac{z}{2} + \\epsilon - \\epsilon z^{2} - 2 \\epsilon^{2} z + 2 \\epsilon^{2} z^{3} + \\mathcal{O}\\left(\\epsilon^{3}\\right) & - \\frac{i y}{2} + \\frac{x}{2} + i \\epsilon y z - \\epsilon x z + i \\epsilon^{2} y - 2 i \\epsilon^{2} y z^{2} - \\epsilon^{2} x + 2 \\epsilon^{2} x z^{2} + \\mathcal{O}\\left(\\epsilon^{3}\\right)\\\\\\frac{i y}{2} + \\frac{x}{2} - i \\epsilon y z - \\epsilon x z - i \\epsilon^{2} y + 2 i \\epsilon^{2} y z^{2} - \\epsilon^{2} x + 2 \\epsilon^{2} x z^{2} + \\mathcal{O}\\left(\\epsilon^{3}\\right) & \\frac{1}{2} - \\frac{z}{2} - \\epsilon + \\epsilon z^{2} + 2 \\epsilon^{2} z - 2 \\epsilon^{2} z^{3} + \\mathcal{O}\\left(\\epsilon^{3}\\right)\\end{matrix}\\right]$$"
      ],
      "text/plain": [
       "⎡                1   z          2      2        2  3    ⎛ 3⎞                  \n",
       "⎢                ─ + ─ + ε - ε⋅z  - 2⋅ε ⋅z + 2⋅ε ⋅z  + O⎝ε ⎠                  \n",
       "⎢                2   2                                                        \n",
       "⎢                                                                             \n",
       "⎢ⅈ⋅y   x                        2          2    2    2        2    2    ⎛ 3⎞  \n",
       "⎢─── + ─ - ⅈ⋅ε⋅y⋅z - ε⋅x⋅z - ⅈ⋅ε ⋅y + 2⋅ⅈ⋅ε ⋅y⋅z  - ε ⋅x + 2⋅ε ⋅x⋅z  + O⎝ε ⎠  \n",
       "⎣ 2    2                                                                      \n",
       "\n",
       "  ⅈ⋅y   x                        2          2    2    2        2    2    ⎛ 3⎞⎤\n",
       "- ─── + ─ + ⅈ⋅ε⋅y⋅z - ε⋅x⋅z + ⅈ⋅ε ⋅y - 2⋅ⅈ⋅ε ⋅y⋅z  - ε ⋅x + 2⋅ε ⋅x⋅z  + O⎝ε ⎠⎥\n",
       "   2    2                                                                    ⎥\n",
       "                                                                             ⎥\n",
       "                 1   z          2      2        2  3    ⎛ 3⎞                 ⎥\n",
       "                 ─ - ─ - ε + ε⋅z  + 2⋅ε ⋅z - 2⋅ε ⋅z  + O⎝ε ⎠                 ⎥\n",
       "                 2   2                                                       ⎦"
      ]
     },
     "execution_count": 64,
     "metadata": {},
     "output_type": "execute_result"
    }
   ],
   "source": [
    "rho_p_series = sy.expand(numerator * denom_series)\n",
    "rho_p_series"
   ]
  },
  {
   "cell_type": "markdown",
   "metadata": {},
   "source": [
    "We can also check properties of our updated state, such as its trace:"
   ]
  },
  {
   "cell_type": "code",
   "execution_count": 65,
   "metadata": {
    "collapsed": false
   },
   "outputs": [
    {
     "data": {
      "image/png": "[encoded data removed]",
      "text/latex": [
       "$$1 + \\mathcal{O}\\left(\\epsilon^{3}\\right)$$"
      ],
      "text/plain": [
       "     ⎛ 3⎞\n",
       "1 + O⎝ε ⎠"
      ]
     },
     "execution_count": 65,
     "metadata": {},
     "output_type": "execute_result"
    }
   ],
   "source": [
    "sy.trace(rho_p_series)"
   ]
  },
  {
   "cell_type": "markdown",
   "metadata": {},
   "source": [
    "# Limits\n",
    "\n",
    "Often the notation of differential calculus does not sweep out the intricacies of calculating limits of expressions, for example while calculating residues or limiting values of complicated expressions. \n",
    "\n",
    "Let us start with a simple example, the limit of function $\\frac{\\sin(x)}{x}$ as $x \\to 0$. In `sympy`, we do the following.\n",
    "\n",
    "- Define a symbol `x`.\n",
    "- Using the function `sympy.sinc`, which is the unnormalized sinc function [https://en.wikipedia.org/wiki/Sinc_function]\n",
    "- Use `sympy.limit` to find the limit of `sinc_unorm` at `x` goes to 0.\n",
    "\n",
    "Now let us consider the normalized sinc function $\\frac{\\sin(\\pi x)}{\\pi x}$ and its limit as $x \\to 0$. For this we need to define our own function `sinc_norm` which is the normalized sinc function. See, for instance, [https://en.wikipedia.org/wiki/Sinc_function]. We do the following\n",
    "\n",
    "- Define a symbol `x`.\n",
    "- Using the function `sympy.sin` and the symbol `sympy.pi`, define a function `sinc_norm` which is the unnormalized sinc function [https://en.wikipedia.org/wiki/Sinc_function]\n",
    "- Use `sympy.limit` to find the limit of `sinc_norm` at `x` goes to 0.\n",
    "\n",
    "Note for those who use MATLAB/Octave: in MATLAB/Octave, the `sinc` function is the normalized sinc function.\n",
    "\n",
    "Next we consider an expression of the form $\\frac{e^{-kr}}{r}$. We want to find its limiting value as $r \\to \\infty$. We assume $k > 0$. For this we do the following.\n",
    "- Define a symbol `x`\n",
    "- Define a symbol `k`. Declare it to be positive, using `positive=True` as an argument of `sympy.Symbol`\n",
    "- Use the function `sympy.exp` to define a function `exp_kr_over_r` which represents the expression  $\\frac{e^{-kr}}{r}$\n",
    "- Use `sympy.limit` to find the limit of `exp_kr_over_r` at `x` goes to `sympy.oo`. Here `sympy.oo` is the symbol which `sympy` uses to represent $\\infty$.\n"
   ]
  },
  {
   "cell_type": "code",
   "execution_count": 66,
   "metadata": {
    "collapsed": false
   },
   "outputs": [
    {
     "data": {
      "image/png": "[encoded data removed]",
      "text/latex": [
       "$$1$$"
      ],
      "text/plain": [
       "1"
      ]
     },
     "execution_count": 66,
     "metadata": {},
     "output_type": "execute_result"
    }
   ],
   "source": [
    "# Limit of sin(x)/(x) as x goes to 0\n",
    "x = sy.Symbol('x')\n",
    "sinc_unorm = sy.sinc(x)\n",
    "sy.limit(sinc_unorm, x, 0)"
   ]
  },
  {
   "cell_type": "code",
   "execution_count": 67,
   "metadata": {
    "collapsed": false
   },
   "outputs": [
    {
     "data": {
      "image/png": "[encoded data removed]",
      "text/latex": [
       "$$1$$"
      ],
      "text/plain": [
       "1"
      ]
     },
     "execution_count": 67,
     "metadata": {},
     "output_type": "execute_result"
    }
   ],
   "source": [
    "# Limit of sin(pi*x)/(pi*x) as x goes to 0\n",
    "x = sy.Symbol('x')\n",
    "sinc_norm = sy.sin(sy.pi*x) / (sy.pi * x)\n",
    "sy.limit(sinc_norm, x, 0)"
   ]
  },
  {
   "cell_type": "code",
   "execution_count": 68,
   "metadata": {
    "collapsed": false
   },
   "outputs": [
    {
     "data": {
      "image/png": "[encoded data removed]",
      "text/latex": [
       "$$0$$"
      ],
      "text/plain": [
       "0"
      ]
     },
     "execution_count": 68,
     "metadata": {},
     "output_type": "execute_result"
    }
   ],
   "source": [
    "# Limit of exp(-k*r)/r as r goes to infinity\n",
    "r = sy.Symbol('r')\n",
    "k = sy.Symbol('k', positive=True)\n",
    "exp_kr_over_r = sy.exp(-k*r) / r\n",
    "sy.limit(exp_kr_over_r, r, sy.oo)"
   ]
  },
  {
   "cell_type": "code",
   "execution_count": null,
   "metadata": {
    "collapsed": true
   },
   "outputs": [],
   "source": [
    "\n"
   ]
  }
 ],
 "metadata": {
  "kernelspec": {
   "display_name": "Python 3",
   "language": "python",
   "name": "python3"
  },
  "language_info": {
   "codemirror_mode": {
    "name": "ipython",
    "version": 3
   },
   "file_extension": ".py",
   "mimetype": "text/x-python",
   "name": "python",
   "nbconvert_exporter": "python",
   "pygments_lexer": "ipython3",
   "version": "3.5.2"
  }
 },
 "nbformat": 4,
 "nbformat_minor": 1
}
