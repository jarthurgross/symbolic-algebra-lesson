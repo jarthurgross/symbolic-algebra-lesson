{
 "cells": [
  {
   "cell_type": "markdown",
   "metadata": {},
   "source": [
    "# Symbolic algebra"
   ]
  },
  {
   "cell_type": "markdown",
   "metadata": {},
   "source": [
    "## Introduction"
   ]
  },
  {
   "cell_type": "markdown",
   "metadata": {},
   "source": [
    "First, we need to import a library for symbolic computation. We'll be using\n",
    "`sympy` for this purpose. We'll also import `numpy` for a few comparisons.\n",
    "\n",
    "I recommend avoiding `from sympy import *` (even though this is used in the\n",
    "[`sympy` tutorial](http://docs.sympy.org/latest/tutorial/)), since we will\n",
    "want to use some functions, like `sqrt`, from both a symbolic and a numeric\n",
    "library."
   ]
  },
  {
   "cell_type": "code",
   "execution_count": null,
   "metadata": {
    "collapsed": true
   },
   "outputs": [],
   "source": []
  },
  {
   "cell_type": "markdown",
   "metadata": {},
   "source": [
    "Sometimes we have an exact expression that is corrupted by\n",
    "the numerical imprecision of a library like `numpy`. For example,\n",
    "consider $\\sqrt{3}$. `numpy` gives us a floating point approximation that doesn't\n",
    "have all the properties we might like:"
   ]
  },
  {
   "cell_type": "code",
   "execution_count": null,
   "metadata": {
    "collapsed": true
   },
   "outputs": [],
   "source": []
  },
  {
   "cell_type": "markdown",
   "metadata": {},
   "source": [
    "`sympy` gives us an object that has the properties we want:"
   ]
  },
  {
   "cell_type": "code",
   "execution_count": null,
   "metadata": {
    "collapsed": true
   },
   "outputs": [],
   "source": []
  },
  {
   "cell_type": "markdown",
   "metadata": {},
   "source": [
    "`sympy` is also capable of displaying expressions in a more human-friendly\n",
    "format."
   ]
  },
  {
   "cell_type": "code",
   "execution_count": null,
   "metadata": {
    "collapsed": true
   },
   "outputs": [],
   "source": []
  },
  {
   "cell_type": "markdown",
   "metadata": {},
   "source": [
    "The real power of `sympy` is the ability to manipulate variables. Some computer algebra\n",
    "systems (CAS) allow the user to immediately input expressions with variables."
   ]
  },
  {
   "cell_type": "code",
   "execution_count": null,
   "metadata": {
    "collapsed": true
   },
   "outputs": [],
   "source": []
  },
  {
   "cell_type": "markdown",
   "metadata": {},
   "source": [
    "Since `sympy` is used within a full Python programming environment, we need to do a little\n",
    "setup first and define some *Python* variables to function as our symbolic variables."
   ]
  },
  {
   "cell_type": "code",
   "execution_count": null,
   "metadata": {
    "collapsed": true
   },
   "outputs": [],
   "source": []
  },
  {
   "cell_type": "markdown",
   "metadata": {},
   "source": [
    "## Expressions"
   ]
  },
  {
   "cell_type": "markdown",
   "metadata": {},
   "source": [
    "We can make all kinds of expressions in `sympy` using both arithmetic operators from Python\n",
    "(to which `sympy` gives special meaning) and functions that `sympy` provides for us:"
   ]
  },
  {
   "cell_type": "code",
   "execution_count": null,
   "metadata": {
    "collapsed": true
   },
   "outputs": [],
   "source": []
  },
  {
   "cell_type": "markdown",
   "metadata": {},
   "source": [
    "Just like with `sqrt`, `sympy` can hold exact values of `sin`, whereas `numpy` gives a floating-point\n",
    "approximation:"
   ]
  },
  {
   "cell_type": "code",
   "execution_count": null,
   "metadata": {
    "collapsed": true
   },
   "outputs": [],
   "source": []
  },
  {
   "cell_type": "markdown",
   "metadata": {},
   "source": [
    "### Simplification"
   ]
  },
  {
   "cell_type": "markdown",
   "metadata": {},
   "source": [
    "A lot of times we want to manipulate an expression without changing what it represents. `sympy`\n",
    "has a variety of functions for doing this. `simplify` is the most generic:"
   ]
  },
  {
   "cell_type": "code",
   "execution_count": null,
   "metadata": {
    "collapsed": true
   },
   "outputs": [],
   "source": []
  },
  {
   "cell_type": "markdown",
   "metadata": {},
   "source": [
    "Sometimes `sympy` doesn't automatically know what we mean by \"simple\", so there are functions to\n",
    "put expressions in particular forms. For instance, we might want to expand $(x+y)(x-y)$ to\n",
    "$x^2-y^2$:"
   ]
  },
  {
   "cell_type": "code",
   "execution_count": null,
   "metadata": {
    "collapsed": true
   },
   "outputs": [],
   "source": []
  },
  {
   "cell_type": "markdown",
   "metadata": {},
   "source": [
    "We might also want to go the other way:"
   ]
  },
  {
   "cell_type": "code",
   "execution_count": null,
   "metadata": {
    "collapsed": true
   },
   "outputs": [],
   "source": []
  },
  {
   "cell_type": "markdown",
   "metadata": {},
   "source": [
    "See more examples in the tutorial section\n",
    "[Simplification](http://docs.sympy.org/latest/tutorial/simplification.html)."
   ]
  },
  {
   "cell_type": "markdown",
   "metadata": {},
   "source": [
    "### Example: checking a phase"
   ]
  },
  {
   "cell_type": "markdown",
   "metadata": {},
   "source": [
    "Sometimes we want to verify properties of our expressions, e.g. show that the\n",
    "magnitude of a complex phase is 1. Let's set up some real variables $a$ and $b$\n",
    "for the real and imaginary parts of a complex number $c=a+ib$:"
   ]
  },
  {
   "cell_type": "code",
   "execution_count": null,
   "metadata": {
    "collapsed": true
   },
   "outputs": [],
   "source": []
  },
  {
   "cell_type": "markdown",
   "metadata": {},
   "source": [
    "`sympy` knows that $a$ and $b$ are real, so they remain unchanged when we take their complex conjugates:"
   ]
  },
  {
   "cell_type": "code",
   "execution_count": null,
   "metadata": {
    "collapsed": true
   },
   "outputs": [],
   "source": []
  },
  {
   "cell_type": "markdown",
   "metadata": {},
   "source": [
    "Let's express the phase of $a+bi$ using `sympy`:"
   ]
  },
  {
   "cell_type": "code",
   "execution_count": null,
   "metadata": {
    "collapsed": true
   },
   "outputs": [],
   "source": []
  },
  {
   "cell_type": "markdown",
   "metadata": {},
   "source": [
    "A complex phase $\\omega$ has the property that $\\omega\\omega^*=1$. Let's see if\n",
    "our expression satisfies that property:"
   ]
  },
  {
   "cell_type": "code",
   "execution_count": null,
   "metadata": {
    "collapsed": true
   },
   "outputs": [],
   "source": []
  },
  {
   "cell_type": "markdown",
   "metadata": {},
   "source": [
    "`sympy` isn't realizing that $a^2+b^2$ is positive, and that therefore the conjugation doesn't do\n",
    "anything. We can take `sympy` by the hand and manually point this out, first defining a\n",
    "pair of expressions we know are equivalent:"
   ]
  },
  {
   "cell_type": "code",
   "execution_count": null,
   "metadata": {
    "collapsed": true
   },
   "outputs": [],
   "source": []
  },
  {
   "cell_type": "markdown",
   "metadata": {},
   "source": [
    "Then we can use `subs` to perform a substitution within our expression:"
   ]
  },
  {
   "cell_type": "code",
   "execution_count": null,
   "metadata": {
    "collapsed": true
   },
   "outputs": [],
   "source": []
  },
  {
   "cell_type": "markdown",
   "metadata": {},
   "source": [
    "Sometimes you can force `sympy` to make simplifications that may note be justified\n",
    "in general. For instance, you might think $x^zy^z$ should be the same as $(xy)^z$. It\n",
    "is when $x,y,z$ are real, but `sympy` doesn't currently know they're real:"
   ]
  },
  {
   "cell_type": "code",
   "execution_count": null,
   "metadata": {
    "collapsed": true
   },
   "outputs": [],
   "source": []
  },
  {
   "cell_type": "markdown",
   "metadata": {},
   "source": [
    "We can tell `sympy` to make simplifications that aren't justified in general by\n",
    "supplying `force=True` to the `powsimp` function:"
   ]
  },
  {
   "cell_type": "markdown",
   "metadata": {},
   "source": [
    "### Displaying expressions nicely"
   ]
  },
  {
   "cell_type": "markdown",
   "metadata": {},
   "source": [
    "Sometimes we want to display our expressions with a little more context that `sympy` spits out.\n",
    "We can use the rich HTML rendering system of jupyter notebooks together with the `latex`\n",
    "export functionality provided by `sympy` to make our notebooks legible."
   ]
  },
  {
   "cell_type": "code",
   "execution_count": null,
   "metadata": {
    "collapsed": true
   },
   "outputs": [],
   "source": []
  },
  {
   "cell_type": "markdown",
   "metadata": {},
   "source": [
    "`latex` converts a `sympy` expression to LaTeX code:"
   ]
  },
  {
   "cell_type": "code",
   "execution_count": null,
   "metadata": {
    "collapsed": true
   },
   "outputs": [],
   "source": []
  },
  {
   "cell_type": "markdown",
   "metadata": {},
   "source": [
    "If we want it rendered prettily, we need to wrap it in some math environment and explicitly use the\n",
    "`HTML` function to format it for our notebook:"
   ]
  },
  {
   "cell_type": "code",
   "execution_count": null,
   "metadata": {
    "collapsed": true
   },
   "outputs": [],
   "source": []
  },
  {
   "cell_type": "markdown",
   "metadata": {},
   "source": [
    "This is a little more verbose, but it allows us greater flexibilitym for instance adding\n",
    "context to printing out the value of $c$:"
   ]
  },
  {
   "cell_type": "code",
   "execution_count": null,
   "metadata": {
    "collapsed": true
   },
   "outputs": [],
   "source": []
  },
  {
   "cell_type": "markdown",
   "metadata": {},
   "source": [
    "We can even use advanced environments like align, but it will be helpful\n",
    "to use raw string literals so we don't have to worry about all the `\\`s:"
   ]
  },
  {
   "cell_type": "code",
   "execution_count": null,
   "metadata": {
    "collapsed": true
   },
   "outputs": [],
   "source": []
  },
  {
   "cell_type": "markdown",
   "metadata": {},
   "source": [
    "You can also use this LaTeX in your paper. If you want to save the result of a calculation for\n",
    "future manipulation, however, it's best not to use LaTeX (since it can be ambiguous). `sympy`'s\n",
    "`srepr` function is better suited for this:"
   ]
  },
  {
   "cell_type": "code",
   "execution_count": null,
   "metadata": {
    "collapsed": true
   },
   "outputs": [],
   "source": []
  },
  {
   "cell_type": "markdown",
   "metadata": {},
   "source": [
    "You can use `sympify` (not to be confused with `simplify`!) to convert an `srepr` string back to an expression:"
   ]
  },
  {
   "cell_type": "code",
   "execution_count": null,
   "metadata": {
    "collapsed": true
   },
   "outputs": [],
   "source": []
  },
  {
   "cell_type": "markdown",
   "metadata": {},
   "source": [
    "If you loaded an expression that has symbols you haven't defined yet,\n",
    "you can get the new symbols from the expression in a list:"
   ]
  },
  {
   "cell_type": "code",
   "execution_count": null,
   "metadata": {
    "collapsed": true
   },
   "outputs": [],
   "source": []
  },
  {
   "cell_type": "markdown",
   "metadata": {},
   "source": [
    "You can also use [pickle](https://docs.python.org/3/library/pickle.html). I prefer\n",
    "`srepr`, since although it's increadibly verbose it is in principle interpretable by\n",
    "a human or other program without needing Python."
   ]
  },
  {
   "cell_type": "markdown",
   "metadata": {},
   "source": [
    "# Calculus\n",
    "We can use computer algebra systems like `sympy` to do calculus. Here we will discuss, differentiation, integration and limits.\n",
    "\n",
    "## Differentiation\n",
    "\n",
    "First let us see `sympy` something simple. We know that the derivative of $e^{kx}$ with respect to $x$ is $k e^{kx}$. Let us see `sympy` do this. We take the following steps.\n",
    "\n",
    "- Define a symbol `x`\n",
    "- Define a symbol `k`\n",
    "- Define a variable `f` which has the expression we want, using `sympy.exp` for the exponential function and usual `*` for multiplication and `/` for division.\n",
    "- Use the function `sympy.diff` to differentiate `f` with respect to `x`.\n",
    "\n",
    "Next let us try something more complicated. Consider the function $V(r) = \\frac{C}{r}$, which is ubiquitous in physics. Let us imagine this is the electric potential of a point charge at the origin. We want the three Cartesian components of the Electric Field. We do this as follows.\n",
    "\n",
    "- Define symbols `x`, `y`, `z`\n",
    "- Define a symbol `r` using the function `sympy.sqrt`, that is `r = sympy.sqrt(x**2 + y**2 + z**2)`\n",
    "- Define a symbol `C`\n",
    "- Define `V` as the ratio of `C` and `r`.\n",
    "- Define `Ex` to be the derivative of `V` with respect to `x`\n",
    "- Define `Ey` to be the derivative of `V` with respect to `y`\n",
    "- Define `Ez` to be the derivative of `V` with respect to `z`\n",
    "- Display the values of `Ex`, `Ey` and `Ez` with the expression `(Ex, Ey, Ez)`\n"
   ]
  },
  {
   "cell_type": "code",
   "execution_count": null,
   "metadata": {},
   "outputs": [],
   "source": [
    "# Differentation of k*exp(k)"
   ]
  },
  {
   "cell_type": "code",
   "execution_count": null,
   "metadata": {},
   "outputs": [],
   "source": [
    "# Electric field of a point charge at the origin from the potential"
   ]
  },
  {
   "cell_type": "markdown",
   "metadata": {},
   "source": [
    "## Integration\n",
    "\n",
    "Computer algebra systems like `sympy` can perform definite and indefinite integration. \n",
    "\n",
    "First we look at definite integrals. Let us consider the is the following definite integral.\n",
    "$$\\int_{0}^{2\\pi} d\\phi (\\sin(\\phi))^2$$\n",
    "We know the answer is $\\pi$. Let us do this in `sympy`.\n",
    "\n",
    "We do this as follows.\n",
    "- Define a symbol `phi`\n",
    "- Define an expression `sin_sq` which uses `sympy.sin` to compute the sine of a function symbolically\n",
    "- Use `sympy.integrate` to integrate our function `sin_sq` with respect to `phi` from `0` to `2*sympy.pi`. Again, we denote the limits as `(phi, 0, 2*sympy.pi)`"
   ]
  },
  {
   "cell_type": "code",
   "execution_count": null,
   "metadata": {},
   "outputs": [],
   "source": [
    "# Definite integraion of (sin(phi))^2\n"
   ]
  },
  {
   "cell_type": "markdown",
   "metadata": {},
   "source": [
    "Next we consider indefinite integration. We consider the following indefinite integral.\n",
    "$$\\int d\\phi (\\sin(\\phi))^2$$\n",
    " \n",
    "Let us do this in `sympy`. We do this as follows.\n",
    "- Define a symbol `phi`\n",
    "- Define an expression `sin_sq` which uses `sympy.sin` to compute the sine of a function symbolically\n",
    "- Use `sympy.integrate` to integrate our function `sin_sq` with respect to `phi`. Again,  no limits are required as this is an an indefinite integral."
   ]
  },
  {
   "cell_type": "code",
   "execution_count": null,
   "metadata": {},
   "outputs": [],
   "source": [
    "# Indefinite integration of (sin(phi))^2"
   ]
  },
  {
   "cell_type": "markdown",
   "metadata": {},
   "source": [
    "# Quantum Mechanics Examples\n",
    "\n",
    "## Energy eigenfunctions for 1 dimensional harmonic oscillator\n",
    "\n",
    "Let us do some quantum mechanics. We consider a particle of mass $M$ in a one dimensional quantum harmonic oscillator of frequency $\\omega$. The Hamiltonian is $H = \\frac{\\hat{P}^2}{2M} + \\frac{M\\omega^2\\hat{Q}^2}{2}$, where $\\hat{P}$ and $\\hat{Q}$ are the momentum and position operators respectively.\n",
    "\n",
    "Choosing dimensionless momentum and position operators $\\hat{p} = \\sqrt{\\frac{1}{M\\hbar\\omega}} \\hat{P}$ and $\\hat{q} = \\sqrt{\\frac{M\\omega}{\\hbar}} \\hat{Q}$, the Hamiltonian becomes $H = \\frac{\\hbar\\omega}{2}(\\hat{p}^2 + \\hat{q}^2)$.\n",
    "\n",
    "Let $p$ and $p$ denote the eigenvalues of operators $\\hat{p}$ and $\\hat{q}$. Then the energy eigenfunctions in the position representation are $\\psi_n(q) = C_n H_n(q) \\exp\\left(-\\frac{1}{2}q^2\\right)$. Here $C_n$ is the normalization factor, which we can find by integrating over all $q$ and $H_n(q)$ is the $n^{\\text{th}}$ Hermite polynomial in $q$. Choosing a real $C_n$, we have\n",
    "\n",
    "$$C_n = \\left(\\int_{-\\infty}^{+\\infty}dq \\left|H_n(q) \\exp\\left(-\\frac{1}{2}q^2\\right)\\right|^2\\right)^{-1/2}$$\n",
    "\n",
    "Let us normalize some of the energy eigenfunctions. Let us consider $n = 4$. We do this as follows.\n",
    "- Define a variable `psi_un` denoting the unnormalizd function. Write `psi_un` using `sympy.special.polynomials.hermite` to get the $n^{\\text{th}}$ Hermite polynomial and `sympy.exp` to get the exponential factor.\n",
    "- Find `C_n` using the reciprocal of the square root of the integral of square of the absolute value of `psi_un`.\n",
    "    - Use `sympy.Abs` to get the absolute value of `psi_un`. Square this using `**2` to get the square of absolute value.\n",
    "    - Use `sympy.integrate` to integrate this over `x` from `- sympy.oo` to `+ sympy.oo`.\n",
    "    - Use this in an expression for `C_n`.\n",
    "- Write `psi` as a product of `C_n` and `psi_un`\n"
   ]
  },
  {
   "cell_type": "code",
   "execution_count": null,
   "metadata": {
    "collapsed": true
   },
   "outputs": [],
   "source": [
    "# Normalization of 1 dimensional harmonic oscillator energy eigenfunctions"
   ]
  },
  {
   "cell_type": "markdown",
   "metadata": {},
   "source": [
    "We have a way of finding the normalized energy eigenfunctions for a specific $n$. It would be great if we can do this for arbitrary values of $n$. To that end, let us define a function `psi_sho` which returns the $n^{\\text{th}}$ energy eigenfunction (in both position and momentum representation as we are working with dimensionless position and momentum) using these ideas. We use a symbol `x`, which can be either `p` or `q`. We do this as follows.\n",
    "\n",
    "- Define a function which takes a symbol `x` and an integer `n` as input\n",
    "- Let `psi_un` be the unnormalized function. Write `psi_un` using `sympy.special.polynomials.hermite` to get the $n^{\\text{th}}$ Hermite polynomial and `sympy.exp` to get the exponential factor.\n",
    "- Find `C_n` using the reciprocal of the square root of the integral of square of the absolute value of `psi_un`.\n",
    "    - Use `sympy.Abs` to get the absolute value of `psi_un`. Square this using `**2` to get the square of absolute value.\n",
    "    - Use `sympy.integrate` to integrate this over `x` from `- sympy.oo` to `+ sympy.oo`.\n",
    "    - Use this in an expression for `C_n`.\n",
    "- Write `psi` as a product of `C_n` and `psi_un`\n",
    "- Return `psi`\n",
    "\n",
    "Now let us look at the expressions for the first few energy eigenfunctions. Let us do this using the code after the function we just defined. Go ahead and play with values inside the Python comprehension denoting the range of values for which to calculate the energy eigenfunctions."
   ]
  },
  {
   "cell_type": "code",
   "execution_count": null,
   "metadata": {},
   "outputs": [],
   "source": [
    "# 1d Harmonic oscillator energy eigenfunctions.\n",
    "def psi_sho(n, x):\n",
    "    '''\n",
    "    Parameters\n",
    "    ----------\n",
    "    n: integer \n",
    "    Quantum number denoting which energy eigenfunction\n",
    "    \n",
    "    x: sympy.Symbol\n",
    "    Symbol denoting the dimensionless parameter which\n",
    "    is the argument of the energy eigenfunction\n",
    "    \n",
    "    Returns\n",
    "    -------\n",
    "    psi:\n",
    "    Expression representing the n th energy eigen function\n",
    "    '''\n",
    "    psi_un = sy.exp(-x**2/2) * sy.special.polynomials.hermite(n, x)\n",
    "    psi_un_norm = sy.integrate(sy.Abs(psi_un)**2, (x, -sy.oo, +sy.oo) )\n",
    "    C_n = 1/sy.sqrt(psi_un_norm)\n",
    "    \n",
    "    psi = C_n * psi_un\n",
    "    return psi\n",
    "    \n",
    "\n",
    "x = sympy.Symbol('x')\n",
    "[psi_sho(n, x) for n in range(15, 22)]"
   ]
  },
  {
   "cell_type": "markdown",
   "metadata": {},
   "source": [
    "## Finding eigenvalues of matrices"
   ]
  },
  {
   "cell_type": "markdown",
   "metadata": {},
   "source": [
    "### Tensor products"
   ]
  },
  {
   "cell_type": "markdown",
   "metadata": {},
   "source": [
    "Let's say I want to know the eigenvalues of $a_H+a_H^\\dagger$, where\n",
    "$a_H=\\sqrt{s^2+1}\\,\\sigma_-^{(1)}-s\\,\\sigma_+^{(2)}$."
   ]
  },
  {
   "cell_type": "markdown",
   "metadata": {},
   "source": [
    "First let's define the standard single-qubit vectors and operators $\\left|g\\right\\rangle$,\n",
    "$\\left|e\\right\\rangle$, $\\sigma_-=\\left|g\\middle\\rangle\\middle\\langle e\\right|$,\n",
    "$\\sigma_+=\\sigma_-^\\dagger$:"
   ]
  },
  {
   "cell_type": "code",
   "execution_count": null,
   "metadata": {
    "collapsed": true
   },
   "outputs": [],
   "source": []
  },
  {
   "cell_type": "markdown",
   "metadata": {},
   "source": [
    "We need a way to deal with tensor product structure for $\\sigma_\\pm^{(n)}$.\n",
    "Fortunately the `physics.quantum` module provides support for this:"
   ]
  },
  {
   "cell_type": "code",
   "execution_count": null,
   "metadata": {
    "collapsed": true
   },
   "outputs": [],
   "source": []
  },
  {
   "cell_type": "markdown",
   "metadata": {},
   "source": [
    "Then we make a symbol for $s$ and build $a_H=\\sqrt{s^2+1}\\,\\sigma_-^{(1)}-s\\,\\sigma_+^{(2)}$\n",
    "and $X_H=a_H+a_H^\\dagger$:"
   ]
  },
  {
   "cell_type": "code",
   "execution_count": null,
   "metadata": {
    "collapsed": true
   },
   "outputs": [],
   "source": []
  },
  {
   "cell_type": "markdown",
   "metadata": {},
   "source": [
    "We can display $X_H$ with some context using `HTML`:"
   ]
  },
  {
   "cell_type": "code",
   "execution_count": null,
   "metadata": {
    "collapsed": true
   },
   "outputs": [],
   "source": []
  },
  {
   "cell_type": "markdown",
   "metadata": {},
   "source": [
    "Now we are ready to solve for eigenvalues and eigenvectors:"
   ]
  },
  {
   "cell_type": "code",
   "execution_count": null,
   "metadata": {
    "collapsed": true
   },
   "outputs": [],
   "source": []
  },
  {
   "cell_type": "markdown",
   "metadata": {},
   "source": [
    "### State update"
   ]
  },
  {
   "cell_type": "markdown",
   "metadata": {},
   "source": [
    "Suppose we have Kraus operators $K_\\pm=\\frac{1}{2}(I\\pm\\epsilon\\sigma_z)$,\n",
    "and we want to know what our updated state"
   ]
  },
  {
   "cell_type": "markdown",
   "metadata": {},
   "source": [
    "\\begin{align}\n",
    "    \\rho_\\pm&=\\frac{K_\\pm\\rho K_\\pm^\\dagger}{\\operatorname{tr}[K_\\pm^\\dagger K_\\pm\\rho]}\n",
    "\\end{align}"
   ]
  },
  {
   "cell_type": "markdown",
   "metadata": {},
   "source": [
    "will look like."
   ]
  },
  {
   "cell_type": "markdown",
   "metadata": {},
   "source": [
    "First let's define Pauli operators"
   ]
  },
  {
   "cell_type": "markdown",
   "metadata": {},
   "source": [
    "\\begin{align}\n",
    "    \\sigma_x&=\\sigma_++\\sigma_- \\\\\n",
    "    \\sigma_y&=-i\\sigma_++i\\sigma_- \\\\\n",
    "    \\sigma_z&=I-2\\sigma_-\\sigma_+\n",
    "\\end{align}"
   ]
  },
  {
   "cell_type": "code",
   "execution_count": null,
   "metadata": {
    "collapsed": true
   },
   "outputs": [],
   "source": []
  },
  {
   "cell_type": "markdown",
   "metadata": {},
   "source": [
    "Then build $\\rho$ and $K_\\pm$ out of these operators."
   ]
  },
  {
   "cell_type": "code",
   "execution_count": null,
   "metadata": {
    "collapsed": true
   },
   "outputs": [],
   "source": []
  },
  {
   "cell_type": "markdown",
   "metadata": {},
   "source": [
    "Finally, calculate the state update:"
   ]
  },
  {
   "cell_type": "code",
   "execution_count": null,
   "metadata": {
    "collapsed": true
   },
   "outputs": [],
   "source": []
  },
  {
   "cell_type": "markdown",
   "metadata": {},
   "source": [
    "If $\\epsilon$ is small, we might only want to keep track of terms up to a certain\n",
    "order in $\\epsilon$. Let's expand the denominator to second order in $\\epsilon$\n",
    "using `series`:"
   ]
  },
  {
   "cell_type": "code",
   "execution_count": null,
   "metadata": {
    "collapsed": true
   },
   "outputs": [],
   "source": []
  },
  {
   "cell_type": "markdown",
   "metadata": {},
   "source": [
    "The numerator is already only second order in $\\epsilon$:"
   ]
  },
  {
   "cell_type": "code",
   "execution_count": null,
   "metadata": {
    "collapsed": true
   },
   "outputs": [],
   "source": []
  },
  {
   "cell_type": "markdown",
   "metadata": {},
   "source": [
    "When we multiply the two terms together, the $\\mathcal{O}(\\epsilon^3)$ term swallows up\n",
    "higher order products automatically:"
   ]
  },
  {
   "cell_type": "code",
   "execution_count": null,
   "metadata": {
    "collapsed": true
   },
   "outputs": [],
   "source": []
  },
  {
   "cell_type": "markdown",
   "metadata": {},
   "source": [
    "We can also check properties of our updated state, such as its trace:"
   ]
  },
  {
   "cell_type": "code",
   "execution_count": null,
   "metadata": {
    "collapsed": true
   },
   "outputs": [],
   "source": []
  },
  {
   "cell_type": "markdown",
   "metadata": {},
   "source": [
    "# Limits\n",
    "\n",
    "Often the notation of differential calculus does not sweep out the intricacies of calculating limits of expressions, for example while calculating residues or limiting values of complicated expressions. \n",
    "\n",
    "Let us start with a simple example, the limit of function $\\frac{\\sin(x)}{x}$ as $x \\to 0$. In `sympy`, we do the following.\n",
    "\n",
    "- Define a symbol `x`.\n",
    "- Using the function `sympy.sinc`, which is the unnormalized sinc function [https://en.wikipedia.org/wiki/Sinc_function]\n",
    "- Use `sympy.limit` to find the limit of `sinc_norm` at `x` goes to 0.\n",
    "\n",
    "Now let us consider the normalized sinc function $\\frac{\\sin(\\pi x)}{\\pi x}$ and its limit as $x \\to 0$. For this we need to define our own function `sinc_norm` which is the normalized sinc function. See, for instance, [https://en.wikipedia.org/wiki/Sinc_function]. We do the following\n",
    "\n",
    "- Define a symbol `x`.\n",
    "- Using the function `sympy.sin` and the symbol `sympy.pi`, define a function `sinc_norm` which is the unnormalized sinc function [https://en.wikipedia.org/wiki/Sinc_function]\n",
    "- Use `sympy.limit` to find the limit of `sinc_norm` at `x` goes to 0.\n",
    "\n",
    "Note for those who use MATLAB/Octave: in MATLAB/Octave, the `sinc` function is the normalized sinc function.\n",
    "\n",
    "Next we consider an expression of the form $\\frac{e^{-kr}}{r}$. We want to find its limiting value as $r \\to \\infty$. We assume $k > 0$. For this we do the following.\n",
    "- Define a symbol `x`\n",
    "- Define a symbol `k`. Declare it to be positive, using `positive=True` as an argument of `sympy.Symbol`\n",
    "- Use the function `sympy.exp` to define a function `exp_kr_over_r` which represents the expression  $\\frac{e^{-kr}}{r}$\n",
    "- Use `sympy.limit` to find the limit of `exp_kr_over_r` at `x` goes to `sympy.oo`. Here `sympy.oo` is the symbol which `sympy` uses to represent $\\infty$.\n"
   ]
  },
  {
   "cell_type": "code",
   "execution_count": null,
   "metadata": {},
   "outputs": [],
   "source": [
    "# Limit of sin(x)/(x) as x goes to 0"
   ]
  },
  {
   "cell_type": "code",
   "execution_count": null,
   "metadata": {},
   "outputs": [],
   "source": [
    "# Limit of sin(pi*x)/(pi*x) as x goes to 0"
   ]
  },
  {
   "cell_type": "code",
   "execution_count": null,
   "metadata": {},
   "outputs": [],
   "source": [
    "# Limit of exp(-k*r)/r as r goes to infinity\n"
   ]
  }
 ],
 "metadata": {
  "kernelspec": {
   "display_name": "Python 3",
   "language": "python",
   "name": "python3"
  },
  "language_info": {
   "codemirror_mode": {
    "name": "ipython",
    "version": 3
   },
   "file_extension": ".py",
   "mimetype": "text/x-python",
   "name": "python",
   "nbconvert_exporter": "python",
   "pygments_lexer": "ipython3",
   "version": "3.5.2"
  }
 },
 "nbformat": 4,
 "nbformat_minor": 0
}
