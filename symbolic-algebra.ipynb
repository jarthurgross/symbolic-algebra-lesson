{
 "cells": [
  {
   "cell_type": "markdown",
   "metadata": {},
   "source": [
    "Jonathan will introduce and do expressions (also show how to format sympy output for\n",
    "presentation in notebook and use in papers).\n",
    "\n",
    "Anupam will do calculus with quantum examples\n",
    "\n",
    "Jonathan will conclude with linalg and quantum examples (also include Fisher information\n",
    "calculation and lambdify)"
   ]
  },
  {
   "cell_type": "markdown",
   "metadata": {},
   "source": [
    "- Anupam\n",
    "  - Calculus\n",
    "    - Symbolic integration\n",
    "    - Limits\n",
    "    - Orthogonality (maybe make a matrix with a loop)\n",
    "  - Quantum mechanics\n",
    "    - Hermite polynomials for fock-state wavefunctions\n",
    "- Jonathan\n",
    "  - Complex numbers\n",
    "    - Show difficulty demonstrating an object is a phase\n",
    "  - Exporting expressions\n",
    "    - Displaying nicely in notebook\n",
    "    - Creating floating-point functions\n",
    "    - Saving\n",
    "  - Linalg\n",
    "    - Eigenvalues\n",
    "    - State update (also series expansion and order truncation)"
   ]
  },
  {
   "cell_type": "markdown",
   "metadata": {},
   "source": [
    "Anupam's outline for the lesson below:"
   ]
  },
  {
   "cell_type": "markdown",
   "metadata": {
    "collapsed": true
   },
   "source": [
    "Outline for Symbolic Algebra lesson\n",
    "====================\n",
    "\n",
    "- Introduction to symbolic algebra:\n",
    "    - Numerical versus symbolic calculation with examples\n",
    "    - Introduction to `sympy`\n",
    "    - `sympy` requires symbolic variables to be declared before being used in an expression just as in regular programming\n",
    "\n",
    "- Expressions:\n",
    "    - Adding, multiplying expressions\n",
    "    - Complex numbers: complex conjugation, absolute value, checking for unimodularity $|z| = 1$?\n",
    "   \n",
    "- Finding eigenvalues of matrices:\n",
    "    - Pauli matrices\n",
    "    - spin 1 matrices\n",
    "    - Gell Mann matrices\n",
    "\n",
    "- Calculus:\n",
    "    - Differentiation\n",
    "    - Integration\n",
    "    - Limits\n",
    "    - Orthogonality of functions: spherical Bessel functions, Hermite polynomials, spherical harmonics\n",
    "\n",
    "- Quantum mechanics examples, with a theme of \"what you did not do in your quantum mechanics courses\"\n",
    "    - Construction of angular momentum matrices for spin $\\frac{1}{2}$, spin 1 using $J_z$, $J_+$, $J_-$\n",
    "    - Loop over angular momentum matrices from $\\frac{1}{2}$ to $\\frac{7}{2}$\n",
    "    - Harmonic oscillator expectation values using Hermite polynomials for somewhat large values of $n$\n",
    "    - Hydrogen atom expectation values using Laguerre polynomial and spherical harmonics, for somewhat $n$\n",
    "    - Calculating expectation values, probabilities and post measurement states for operators on Bell states"
   ]
  },
  {
   "cell_type": "markdown",
   "metadata": {},
   "source": [
    "In addition to this material, I think we should include lambdification."
   ]
  },
  {
   "cell_type": "markdown",
   "metadata": {},
   "source": [
    "# Draft notebook"
   ]
  },
  {
   "cell_type": "markdown",
   "metadata": {},
   "source": [
    "## Introduction to symbolic algebra"
   ]
  },
  {
   "cell_type": "markdown",
   "metadata": {},
   "source": [
    "Don't do `from sympy import *` since we will want to use some functions,\n",
    "like `sqrt`, from both a symbolic and a numeric library."
   ]
  },
  {
   "cell_type": "code",
   "execution_count": 1,
   "metadata": {
    "collapsed": true
   },
   "outputs": [],
   "source": [
    "import sympy as sy\n",
    "import numpy as np"
   ]
  },
  {
   "cell_type": "markdown",
   "metadata": {},
   "source": [
    "Sometimes we have an exact expression that is corrupted by\n",
    "the numerical imprecision of a library like `numpy`. For example,\n",
    "consider $\\sqrt{3}$:"
   ]
  },
  {
   "cell_type": "code",
   "execution_count": 2,
   "metadata": {
    "collapsed": false
   },
   "outputs": [
    {
     "data": {
      "text/plain": [
       "1.7320508075688772"
      ]
     },
     "execution_count": 2,
     "metadata": {},
     "output_type": "execute_result"
    }
   ],
   "source": [
    "np.sqrt(3)"
   ]
  },
  {
   "cell_type": "code",
   "execution_count": 3,
   "metadata": {
    "collapsed": false
   },
   "outputs": [
    {
     "data": {
      "text/plain": [
       "-4.4408920985006262e-16"
      ]
     },
     "execution_count": 3,
     "metadata": {},
     "output_type": "execute_result"
    }
   ],
   "source": [
    "np.sqrt(3)**2 - 3"
   ]
  },
  {
   "cell_type": "code",
   "execution_count": 4,
   "metadata": {
    "collapsed": false
   },
   "outputs": [
    {
     "data": {
      "text/plain": [
       "sqrt(3)"
      ]
     },
     "execution_count": 4,
     "metadata": {},
     "output_type": "execute_result"
    }
   ],
   "source": [
    "sy.sqrt(3)"
   ]
  },
  {
   "cell_type": "code",
   "execution_count": 5,
   "metadata": {
    "collapsed": false
   },
   "outputs": [
    {
     "data": {
      "text/plain": [
       "0"
      ]
     },
     "execution_count": 5,
     "metadata": {},
     "output_type": "execute_result"
    }
   ],
   "source": [
    "sy.sqrt(3)**2 - 3"
   ]
  },
  {
   "cell_type": "markdown",
   "metadata": {},
   "source": [
    "`sympy` is also capable of displaying expressions in a more human-friendly\n",
    "format."
   ]
  },
  {
   "cell_type": "code",
   "execution_count": 6,
   "metadata": {
    "collapsed": true
   },
   "outputs": [],
   "source": [
    "sy.init_printing()"
   ]
  },
  {
   "cell_type": "code",
   "execution_count": 7,
   "metadata": {
    "collapsed": false
   },
   "outputs": [
    {
     "data": {
      "image/png": "[encoded data removed]",
      "text/latex": [
       "$$\\sqrt{3}$$"
      ],
      "text/plain": [
       "√3"
      ]
     },
     "execution_count": 7,
     "metadata": {},
     "output_type": "execute_result"
    }
   ],
   "source": [
    "sy.sqrt(3)"
   ]
  },
  {
   "cell_type": "markdown",
   "metadata": {},
   "source": [
    "The real power of `sympy` is the ability to manipulate variables. Some computer algebra\n",
    "systems (CAS) allow the user to immediately input expressions with variables."
   ]
  },
  {
   "cell_type": "code",
   "execution_count": 8,
   "metadata": {
    "collapsed": false
   },
   "outputs": [
    {
     "ename": "NameError",
     "evalue": "name 'x' is not defined",
     "output_type": "error",
     "traceback": [
      "\u001b[0;31m---------------------------------------------------------------------------\u001b[0m",
      "\u001b[0;31mNameError\u001b[0m                                 Traceback (most recent call last)",
      "\u001b[0;32m<ipython-input-8-b50c5120e24b>\u001b[0m in \u001b[0;36m<module>\u001b[0;34m()\u001b[0m\n\u001b[0;32m----> 1\u001b[0;31m \u001b[0mx\u001b[0m \u001b[0;34m+\u001b[0m \u001b[0my\u001b[0m\u001b[0;34m\u001b[0m\u001b[0m\n\u001b[0m",
      "\u001b[0;31mNameError\u001b[0m: name 'x' is not defined"
     ]
    }
   ],
   "source": [
    "x + y"
   ]
  },
  {
   "cell_type": "markdown",
   "metadata": {},
   "source": [
    "Since `sympy` is used within a full Python programming environment, we need to do a little\n",
    "setup first and define some *Python* variables to function as our symbolic variables."
   ]
  },
  {
   "cell_type": "code",
   "execution_count": 9,
   "metadata": {
    "collapsed": false
   },
   "outputs": [
    {
     "data": {
      "image/png": "[encoded data removed]",
      "text/latex": [
       "$$x + y$$"
      ],
      "text/plain": [
       "x + y"
      ]
     },
     "execution_count": 9,
     "metadata": {},
     "output_type": "execute_result"
    }
   ],
   "source": [
    "x, y, z = sy.symbols('x y z')\n",
    "x + y"
   ]
  },
  {
   "cell_type": "code",
   "execution_count": 10,
   "metadata": {
    "collapsed": false
   },
   "outputs": [
    {
     "data": {
      "text/plain": [
       "sympy.core.symbol.Symbol"
      ]
     },
     "execution_count": 10,
     "metadata": {},
     "output_type": "execute_result"
    }
   ],
   "source": [
    "type(x)"
   ]
  },
  {
   "cell_type": "markdown",
   "metadata": {},
   "source": [
    "## Expressions"
   ]
  },
  {
   "cell_type": "markdown",
   "metadata": {},
   "source": [
    "We can make all kinds of expressions in `sympy` using both arithmetic operators from Python\n",
    "(to which `sympy` gives special meaning) and functions that `sympy` provides for us:"
   ]
  },
  {
   "cell_type": "code",
   "execution_count": 11,
   "metadata": {
    "collapsed": false
   },
   "outputs": [
    {
     "data": {
      "image/png": "[encoded data removed]",
      "text/latex": [
       "$$\\frac{x^{2}}{2} + \\frac{y^{2}}{2} + \\frac{z^{2}}{2}$$"
      ],
      "text/plain": [
       " 2    2    2\n",
       "x    y    z \n",
       "── + ── + ──\n",
       "2    2    2 "
      ]
     },
     "execution_count": 11,
     "metadata": {},
     "output_type": "execute_result"
    }
   ],
   "source": [
    "(x**2 + y**2 + z**2) / 2"
   ]
  },
  {
   "cell_type": "code",
   "execution_count": 12,
   "metadata": {
    "collapsed": false
   },
   "outputs": [
    {
     "data": {
      "image/png": "[encoded data removed]",
      "text/latex": [
       "$$\\sin^{2}{\\left (x \\right )} + \\cos^{2}{\\left (x \\right )}$$"
      ],
      "text/plain": [
       "   2         2   \n",
       "sin (x) + cos (x)"
      ]
     },
     "execution_count": 12,
     "metadata": {},
     "output_type": "execute_result"
    }
   ],
   "source": [
    "sy.sin(x)**2 + sy.cos(x)**2"
   ]
  },
  {
   "cell_type": "code",
   "execution_count": 13,
   "metadata": {
    "collapsed": false
   },
   "outputs": [
    {
     "data": {
      "image/png": "[encoded data removed]",
      "text/latex": [
       "$$\\left(x - y\\right) \\left(x + y\\right)$$"
      ],
      "text/plain": [
       "(x - y)⋅(x + y)"
      ]
     },
     "execution_count": 13,
     "metadata": {},
     "output_type": "execute_result"
    }
   ],
   "source": [
    "(x + y) * (x - y)"
   ]
  },
  {
   "cell_type": "markdown",
   "metadata": {},
   "source": [
    "### Simplification"
   ]
  },
  {
   "cell_type": "markdown",
   "metadata": {},
   "source": [
    "A lot of times we want to manipulate an expression without changing what it represents. `sympy`\n",
    "has a variety of functions for doing this. `simplify` is the most generic:"
   ]
  },
  {
   "cell_type": "code",
   "execution_count": 14,
   "metadata": {
    "collapsed": false
   },
   "outputs": [
    {
     "data": {
      "image/png": "[encoded data removed]",
      "text/latex": [
       "$$1$$"
      ],
      "text/plain": [
       "1"
      ]
     },
     "execution_count": 14,
     "metadata": {},
     "output_type": "execute_result"
    }
   ],
   "source": [
    "sy.simplify(sy.sin(x)**2 + sy.cos(x)**2)"
   ]
  },
  {
   "cell_type": "markdown",
   "metadata": {},
   "source": [
    "Sometimes `sympy` doesn't automatically know what we mean by \"simple\", so there are functions to\n",
    "put expressions in particular forms:"
   ]
  },
  {
   "cell_type": "code",
   "execution_count": 15,
   "metadata": {
    "collapsed": false
   },
   "outputs": [
    {
     "data": {
      "image/png": "[encoded data removed]",
      "text/latex": [
       "$$\\left(x - y\\right) \\left(x + y\\right)$$"
      ],
      "text/plain": [
       "(x - y)⋅(x + y)"
      ]
     },
     "execution_count": 15,
     "metadata": {},
     "output_type": "execute_result"
    }
   ],
   "source": [
    "sy.simplify((x + y) * (x - y))"
   ]
  },
  {
   "cell_type": "code",
   "execution_count": 16,
   "metadata": {
    "collapsed": false
   },
   "outputs": [
    {
     "data": {
      "image/png": "[encoded data removed]",
      "text/latex": [
       "$$x^{2} - y^{2}$$"
      ],
      "text/plain": [
       " 2    2\n",
       "x  - y "
      ]
     },
     "execution_count": 16,
     "metadata": {},
     "output_type": "execute_result"
    }
   ],
   "source": [
    "sy.expand((x + y) * (x - y))"
   ]
  },
  {
   "cell_type": "code",
   "execution_count": 17,
   "metadata": {
    "collapsed": false
   },
   "outputs": [
    {
     "data": {
      "image/png": "[encoded data removed]",
      "text/latex": [
       "$$x^{2} - y^{2}$$"
      ],
      "text/plain": [
       " 2    2\n",
       "x  - y "
      ]
     },
     "execution_count": 17,
     "metadata": {},
     "output_type": "execute_result"
    }
   ],
   "source": [
    "sy.simplify(x**2 - y**2)"
   ]
  },
  {
   "cell_type": "code",
   "execution_count": 18,
   "metadata": {
    "collapsed": false
   },
   "outputs": [
    {
     "data": {
      "image/png": "[encoded data removed]",
      "text/latex": [
       "$$\\left(x - y\\right) \\left(x + y\\right)$$"
      ],
      "text/plain": [
       "(x - y)⋅(x + y)"
      ]
     },
     "execution_count": 18,
     "metadata": {},
     "output_type": "execute_result"
    }
   ],
   "source": [
    "sy.factor(x**2 - y**2)"
   ]
  },
  {
   "cell_type": "markdown",
   "metadata": {},
   "source": [
    "See more examples in the tutorial section\n",
    "[Simplification](http://docs.sympy.org/latest/tutorial/simplification.html)."
   ]
  },
  {
   "cell_type": "markdown",
   "metadata": {},
   "source": [
    "### Example: checking a phase"
   ]
  },
  {
   "cell_type": "markdown",
   "metadata": {},
   "source": [
    "Sometimes we want to verify properties of our expressions, e.g. show that the\n",
    "magnitude of a complex phase is 1. Let's set up some real variables $a$ and $b$\n",
    "for the real and imaginary parts of a complex number $a+ib$:"
   ]
  },
  {
   "cell_type": "code",
   "execution_count": 19,
   "metadata": {
    "collapsed": false
   },
   "outputs": [
    {
     "data": {
      "image/png": "[encoded data removed]",
      "text/latex": [
       "$$\\left ( a, \\quad b\\right )$$"
      ],
      "text/plain": [
       "(a, b)"
      ]
     },
     "execution_count": 19,
     "metadata": {},
     "output_type": "execute_result"
    }
   ],
   "source": [
    "a, b = sy.symbols('a b', real=True)\n",
    "a, b"
   ]
  },
  {
   "cell_type": "code",
   "execution_count": 20,
   "metadata": {
    "collapsed": false
   },
   "outputs": [
    {
     "data": {
      "image/png": "[encoded data removed]",
      "text/latex": [
       "$$a + i b$$"
      ],
      "text/plain": [
       "a + ⅈ⋅b"
      ]
     },
     "execution_count": 20,
     "metadata": {},
     "output_type": "execute_result"
    }
   ],
   "source": [
    "c = a + sy.I*b\n",
    "c"
   ]
  },
  {
   "cell_type": "markdown",
   "metadata": {},
   "source": [
    "`sympy` knows that $a$ and $b$ are real, so they remain unchanged when we take their complex conjugates:"
   ]
  },
  {
   "cell_type": "code",
   "execution_count": 21,
   "metadata": {
    "collapsed": false
   },
   "outputs": [
    {
     "data": {
      "image/png": "[encoded data removed]",
      "text/latex": [
       "$$\\left ( a, \\quad b\\right )$$"
      ],
      "text/plain": [
       "(a, b)"
      ]
     },
     "execution_count": 21,
     "metadata": {},
     "output_type": "execute_result"
    }
   ],
   "source": [
    "a.conjugate(), b.conjugate()"
   ]
  },
  {
   "cell_type": "markdown",
   "metadata": {},
   "source": [
    "Let's express the phase of $a+bi$ using `sympy`:"
   ]
  },
  {
   "cell_type": "code",
   "execution_count": 22,
   "metadata": {
    "collapsed": false
   },
   "outputs": [
    {
     "data": {
      "image/png": "[encoded data removed]",
      "text/latex": [
       "$$\\frac{a + i b}{\\sqrt{a^{2} + b^{2}}}$$"
      ],
      "text/plain": [
       "  a + ⅈ⋅b   \n",
       "────────────\n",
       "   _________\n",
       "  ╱  2    2 \n",
       "╲╱  a  + b  "
      ]
     },
     "execution_count": 22,
     "metadata": {},
     "output_type": "execute_result"
    }
   ],
   "source": [
    "phase = sy.simplify(c/sy.sqrt(c * c.conjugate()))\n",
    "phase"
   ]
  },
  {
   "cell_type": "markdown",
   "metadata": {},
   "source": [
    "A complex phase $\\omega$ has the property that $\\omega\\omega^*=1$. Let's see if\n",
    "our expression satisfies that property:"
   ]
  },
  {
   "cell_type": "code",
   "execution_count": 23,
   "metadata": {
    "collapsed": false
   },
   "outputs": [
    {
     "data": {
      "image/png": "[encoded data removed]",
      "text/latex": [
       "$$\\frac{\\overline{\\frac{1}{\\sqrt{a^{2} + b^{2}}}}}{\\sqrt{a^{2} + b^{2}}} \\left(a - i b\\right) \\left(a + i b\\right)$$"
      ],
      "text/plain": [
       "                    ____________\n",
       "                         1      \n",
       "(a - ⅈ⋅b)⋅(a + ⅈ⋅b)⋅────────────\n",
       "                       _________\n",
       "                      ╱  2    2 \n",
       "                    ╲╱  a  + b  \n",
       "────────────────────────────────\n",
       "             _________          \n",
       "            ╱  2    2           \n",
       "          ╲╱  a  + b            "
      ]
     },
     "execution_count": 23,
     "metadata": {},
     "output_type": "execute_result"
    }
   ],
   "source": [
    "phase * phase.conjugate()"
   ]
  },
  {
   "cell_type": "code",
   "execution_count": 24,
   "metadata": {
    "collapsed": false
   },
   "outputs": [
    {
     "data": {
      "image/png": "[encoded data removed]",
      "text/latex": [
       "$$\\sqrt{a^{2} + b^{2}} \\overline{\\frac{1}{\\sqrt{a^{2} + b^{2}}}}$$"
      ],
      "text/plain": [
       "   _________ ____________\n",
       "  ╱  2    2       1      \n",
       "╲╱  a  + b  ⋅────────────\n",
       "                _________\n",
       "               ╱  2    2 \n",
       "             ╲╱  a  + b  "
      ]
     },
     "execution_count": 24,
     "metadata": {},
     "output_type": "execute_result"
    }
   ],
   "source": [
    "sy.simplify(phase * phase.conjugate())"
   ]
  },
  {
   "cell_type": "code",
   "execution_count": 25,
   "metadata": {
    "collapsed": false
   },
   "outputs": [
    {
     "data": {
      "image/png": "[encoded data removed]",
      "text/latex": [
       "$$\\frac{\\sqrt{a^{2} + b^{2}}}{\\sqrt{- a^{2} - b^{2}}}$$"
      ],
      "text/plain": [
       "    _________ \n",
       "   ╱  2    2  \n",
       " ╲╱  a  + b   \n",
       "──────────────\n",
       "   ___________\n",
       "  ╱    2    2 \n",
       "╲╱  - a  - b  "
      ]
     },
     "execution_count": 25,
     "metadata": {},
     "output_type": "execute_result"
    }
   ],
   "source": [
    "sy.Abs(phase)"
   ]
  },
  {
   "cell_type": "markdown",
   "metadata": {},
   "source": [
    "`sympy` isn't realizing that $a^2+b^2$ is positive, and that therefore the conjugation doesn't do\n",
    "anything. We can take `sympy` by the hand and manually point this out:"
   ]
  },
  {
   "cell_type": "code",
   "execution_count": 26,
   "metadata": {
    "collapsed": false
   },
   "outputs": [
    {
     "data": {
      "image/png": "[encoded data removed]",
      "text/latex": [
       "$$\\left ( \\overline{\\frac{1}{\\sqrt{a^{2} + b^{2}}}}, \\quad \\frac{1}{\\sqrt{a^{2} + b^{2}}}\\right )$$"
      ],
      "text/plain": [
       "⎛____________              ⎞\n",
       "⎜     1             1      ⎟\n",
       "⎜────────────, ────────────⎟\n",
       "⎜   _________     _________⎟\n",
       "⎜  ╱  2    2     ╱  2    2 ⎟\n",
       "⎝╲╱  a  + b    ╲╱  a  + b  ⎠"
      ]
     },
     "execution_count": 26,
     "metadata": {},
     "output_type": "execute_result"
    }
   ],
   "source": [
    "sub_pair = (sy.conjugate(1 / sy.sqrt(a**2 + b**2)), 1 / sy.sqrt(a**2 + b**2))\n",
    "sub_pair"
   ]
  },
  {
   "cell_type": "code",
   "execution_count": 27,
   "metadata": {
    "collapsed": false
   },
   "outputs": [
    {
     "data": {
      "image/png": "[encoded data removed]",
      "text/latex": [
       "$$1$$"
      ],
      "text/plain": [
       "1"
      ]
     },
     "execution_count": 27,
     "metadata": {},
     "output_type": "execute_result"
    }
   ],
   "source": [
    "sy.simplify((phase * phase.conjugate()).subs(*sub_pair))"
   ]
  },
  {
   "cell_type": "markdown",
   "metadata": {},
   "source": [
    "Sometimes you can force `sympy` to make simplifications that may note be justified\n",
    "in general. It doesn't help here:"
   ]
  },
  {
   "cell_type": "code",
   "execution_count": 28,
   "metadata": {
    "collapsed": false
   },
   "outputs": [
    {
     "data": {
      "image/png": "[encoded data removed]",
      "text/latex": [
       "$$\\sqrt{a^{2} + b^{2}} \\overline{\\frac{1}{\\sqrt{a^{2} + b^{2}}}}$$"
      ],
      "text/plain": [
       "   _________ ____________\n",
       "  ╱  2    2       1      \n",
       "╲╱  a  + b  ⋅────────────\n",
       "                _________\n",
       "               ╱  2    2 \n",
       "             ╲╱  a  + b  "
      ]
     },
     "execution_count": 28,
     "metadata": {},
     "output_type": "execute_result"
    }
   ],
   "source": [
    "sy.powsimp(sy.simplify(phase * phase.conjugate()), force=True)"
   ]
  },
  {
   "cell_type": "markdown",
   "metadata": {},
   "source": [
    "But it can help in situations like"
   ]
  },
  {
   "cell_type": "code",
   "execution_count": 29,
   "metadata": {
    "collapsed": false
   },
   "outputs": [
    {
     "data": {
      "image/png": "[encoded data removed]",
      "text/latex": [
       "$$x^{z} y^{z} - \\left(x y\\right)^{z}$$"
      ],
      "text/plain": [
       " z  z        z\n",
       "x ⋅y  - (x⋅y) "
      ]
     },
     "execution_count": 29,
     "metadata": {},
     "output_type": "execute_result"
    }
   ],
   "source": [
    "sy.powsimp(x**z * y**z - (x*y)**z)"
   ]
  },
  {
   "cell_type": "code",
   "execution_count": 30,
   "metadata": {
    "collapsed": false
   },
   "outputs": [
    {
     "data": {
      "image/png": "[encoded data removed]",
      "text/latex": [
       "$$0$$"
      ],
      "text/plain": [
       "0"
      ]
     },
     "execution_count": 30,
     "metadata": {},
     "output_type": "execute_result"
    }
   ],
   "source": [
    "sy.powsimp(x**z * y**z - (x*y)**z, force=True)"
   ]
  },
  {
   "cell_type": "markdown",
   "metadata": {},
   "source": [
    "### Displaying expressions nicely"
   ]
  },
  {
   "cell_type": "markdown",
   "metadata": {},
   "source": [
    "Sometimes we want to display our expressions with a little more context that `sympy` spits out.\n",
    "We can use the rich HTML rendering system of jupyter notebooks together with the `latex`\n",
    "export functionality provided by `sympy` to make our notebooks legible."
   ]
  },
  {
   "cell_type": "code",
   "execution_count": 31,
   "metadata": {
    "collapsed": true
   },
   "outputs": [],
   "source": [
    "from IPython.display import display, HTML"
   ]
  },
  {
   "cell_type": "markdown",
   "metadata": {},
   "source": [
    "`display` is like `print`, but it takes advantage of your format's fancy display options. This\n",
    "is what's called when you finish a cell with a line that has a lone expression on it (without\n",
    "any assignment)."
   ]
  },
  {
   "cell_type": "code",
   "execution_count": 32,
   "metadata": {
    "collapsed": false
   },
   "outputs": [
    {
     "data": {
      "text/plain": [
       "'Hello'"
      ]
     },
     "execution_count": 32,
     "metadata": {},
     "output_type": "execute_result"
    }
   ],
   "source": [
    "'Hello'"
   ]
  },
  {
   "cell_type": "code",
   "execution_count": 33,
   "metadata": {
    "collapsed": false
   },
   "outputs": [
    {
     "data": {
      "text/plain": [
       "'Hello'"
      ]
     },
     "metadata": {},
     "output_type": "display_data"
    }
   ],
   "source": [
    "display('Hello')"
   ]
  },
  {
   "cell_type": "code",
   "execution_count": 34,
   "metadata": {
    "collapsed": false
   },
   "outputs": [
    {
     "data": {
      "image/png": "[encoded data removed]",
      "text/latex": [
       "$$\\frac{a + i b}{\\sqrt{a^{2} + b^{2}}}$$"
      ],
      "text/plain": [
       "  a + ⅈ⋅b   \n",
       "────────────\n",
       "   _________\n",
       "  ╱  2    2 \n",
       "╲╱  a  + b  "
      ]
     },
     "execution_count": 34,
     "metadata": {},
     "output_type": "execute_result"
    }
   ],
   "source": [
    "phase"
   ]
  },
  {
   "cell_type": "code",
   "execution_count": 35,
   "metadata": {
    "collapsed": false,
    "scrolled": true
   },
   "outputs": [
    {
     "data": {
      "image/png": "[encoded data removed]",
      "text/latex": [
       "$$\\frac{a + i b}{\\sqrt{a^{2} + b^{2}}}$$"
      ],
      "text/plain": [
       "  a + ⅈ⋅b   \n",
       "────────────\n",
       "   _________\n",
       "  ╱  2    2 \n",
       "╲╱  a  + b  "
      ]
     },
     "metadata": {},
     "output_type": "display_data"
    }
   ],
   "source": [
    "display(phase)"
   ]
  },
  {
   "cell_type": "markdown",
   "metadata": {},
   "source": [
    "`latex` converts a `sympy` expression to LaTeX code:"
   ]
  },
  {
   "cell_type": "code",
   "execution_count": 36,
   "metadata": {
    "collapsed": false
   },
   "outputs": [
    {
     "data": {
      "text/plain": [
       "'\\\\frac{a + i b}{\\\\sqrt{a^{2} + b^{2}}}'"
      ]
     },
     "execution_count": 36,
     "metadata": {},
     "output_type": "execute_result"
    }
   ],
   "source": [
    "sy.latex(phase)"
   ]
  },
  {
   "cell_type": "markdown",
   "metadata": {},
   "source": [
    "If we want it rendered prettily, we need to wrap it in some math environment and explicitly use the\n",
    "`HTML` function to format it for our notebook:"
   ]
  },
  {
   "cell_type": "code",
   "execution_count": 37,
   "metadata": {
    "collapsed": false
   },
   "outputs": [
    {
     "data": {
      "text/html": [
       "$$\\frac{a + i b}{\\sqrt{a^{2} + b^{2}}}$$"
      ],
      "text/plain": [
       "<IPython.core.display.HTML object>"
      ]
     },
     "execution_count": 37,
     "metadata": {},
     "output_type": "execute_result"
    }
   ],
   "source": [
    "HTML('$$' + sy.latex(phase) + '$$')"
   ]
  },
  {
   "cell_type": "markdown",
   "metadata": {},
   "source": [
    "This is a little more verbose, but it allows us greater flexibility:"
   ]
  },
  {
   "cell_type": "code",
   "execution_count": 38,
   "metadata": {
    "collapsed": false
   },
   "outputs": [
    {
     "data": {
      "text/html": [
       "$c=a + i b$"
      ],
      "text/plain": [
       "<IPython.core.display.HTML object>"
      ]
     },
     "execution_count": 38,
     "metadata": {},
     "output_type": "execute_result"
    }
   ],
   "source": [
    "HTML(\"$c=\" + sy.latex(c) + \"$\")"
   ]
  },
  {
   "cell_type": "markdown",
   "metadata": {},
   "source": [
    "We can even use advanced environments like align, but it will be helpful\n",
    "to use raw string literals so we don't have to worry about all the `\\`s:"
   ]
  },
  {
   "cell_type": "code",
   "execution_count": 39,
   "metadata": {
    "collapsed": false
   },
   "outputs": [
    {
     "data": {
      "text/html": [
       "\\begin{align}|c|&=\\sqrt{a^{2} + b^{2}}\\\\ \\angle c&=\\frac{a + i b}{\\sqrt{a^{2} + b^{2}}}\\end{align}"
      ],
      "text/plain": [
       "<IPython.core.display.HTML object>"
      ]
     },
     "execution_count": 39,
     "metadata": {},
     "output_type": "execute_result"
    }
   ],
   "source": [
    "HTML(r'\\begin{align}|c|&=' + sy.latex(sy.simplify(sy.sqrt(c * c.conjugate()))) +\n",
    "     r'\\\\ \\angle c&=' + sy.latex(phase) + r'\\end{align}')"
   ]
  },
  {
   "cell_type": "markdown",
   "metadata": {},
   "source": [
    "You can also use this LaTeX in your paper. If you want to save the result of a calculation for\n",
    "future manipulation, however, it's best not to use LaTeX (since it can be ambiguous). `sympy`'s\n",
    "`srepr` function is better suited for this:"
   ]
  },
  {
   "cell_type": "code",
   "execution_count": 40,
   "metadata": {
    "collapsed": false
   },
   "outputs": [
    {
     "data": {
      "text/plain": [
       "\"Mul(Add(Symbol('a', real=True), Mul(I, Symbol('b', real=True))), Pow(Add(Pow(Symbol('a', real=True), Integer(2)), Pow(Symbol('b', real=True), Integer(2))), Rational(-1, 2)))\""
      ]
     },
     "execution_count": 40,
     "metadata": {},
     "output_type": "execute_result"
    }
   ],
   "source": [
    "saved_phase = sy.srepr(phase)\n",
    "saved_phase"
   ]
  },
  {
   "cell_type": "markdown",
   "metadata": {},
   "source": [
    "You can use `sympify` to convert an `srepr` string back to an expression:"
   ]
  },
  {
   "cell_type": "code",
   "execution_count": 41,
   "metadata": {
    "collapsed": false
   },
   "outputs": [
    {
     "data": {
      "image/png": "[encoded data removed]",
      "text/latex": [
       "$$\\frac{a + i b}{\\sqrt{a^{2} + b^{2}}}$$"
      ],
      "text/plain": [
       "  a + ⅈ⋅b   \n",
       "────────────\n",
       "   _________\n",
       "  ╱  2    2 \n",
       "╲╱  a  + b  "
      ]
     },
     "execution_count": 41,
     "metadata": {},
     "output_type": "execute_result"
    }
   ],
   "source": [
    "loaded_phase = sy.sympify(saved_phase)\n",
    "loaded_phase"
   ]
  },
  {
   "cell_type": "markdown",
   "metadata": {},
   "source": [
    "If you loaded an expression that has symbols you haven't defined yet,\n",
    "you can get the new symbols from the expression in a list:"
   ]
  },
  {
   "cell_type": "code",
   "execution_count": 42,
   "metadata": {
    "collapsed": false
   },
   "outputs": [
    {
     "data": {
      "image/png": "[encoded data removed]",
      "text/latex": [
       "$$\\left [ a, \\quad b\\right ]$$"
      ],
      "text/plain": [
       "[a, b]"
      ]
     },
     "execution_count": 42,
     "metadata": {},
     "output_type": "execute_result"
    }
   ],
   "source": [
    "loaded_symbols = list(loaded_phase.free_symbols)\n",
    "loaded_symbols"
   ]
  },
  {
   "cell_type": "markdown",
   "metadata": {},
   "source": [
    "You can also use [pickle](https://docs.python.org/3/library/pickle.html). I prefer\n",
    "`srepr`, since although it's increadibly verbose it is in principle interpretable by\n",
    "a human or other program without needing Python."
   ]
  },
  {
   "cell_type": "markdown",
   "metadata": {},
   "source": [
    "## Anupam's sections"
   ]
  },
  {
   "cell_type": "markdown",
   "metadata": {},
   "source": [
    "## Finding eigenvalues of matrices"
   ]
  },
  {
   "cell_type": "markdown",
   "metadata": {},
   "source": [
    "### Tensor products"
   ]
  },
  {
   "cell_type": "markdown",
   "metadata": {},
   "source": [
    "Let's say I want to know the eigenvalues of $a_H+a_H^\\dagger$, where\n",
    "$a_H=\\sqrt{s^2+1}\\,\\sigma_-^{(1)}-s\\,\\sigma_+^{(2)}$."
   ]
  },
  {
   "cell_type": "markdown",
   "metadata": {},
   "source": [
    "First let's define some standard single-qubit operators:"
   ]
  },
  {
   "cell_type": "code",
   "execution_count": 44,
   "metadata": {
    "collapsed": false
   },
   "outputs": [],
   "source": [
    "ket_g = sy.Matrix([0, 1])\n",
    "ket_e = sy.Matrix([1, 0])\n",
    "Id = sy.eye(2)\n",
    "sm = ket_g * ket_e.H\n",
    "sp = sm.H"
   ]
  },
  {
   "cell_type": "markdown",
   "metadata": {},
   "source": [
    "We need a way to deal with tensor product structure for $\\sigma_\\pm^{(n)}$.\n",
    "Fortunately the `physics.quantum` module provides support for this:"
   ]
  },
  {
   "cell_type": "code",
   "execution_count": 45,
   "metadata": {
    "collapsed": true
   },
   "outputs": [],
   "source": [
    "from sympy.physics.quantum import TensorProduct"
   ]
  },
  {
   "cell_type": "code",
   "execution_count": 46,
   "metadata": {
    "collapsed": true
   },
   "outputs": [],
   "source": [
    "sm1 = TensorProduct(sm, Id)\n",
    "sp1 = TensorProduct(sp, Id)\n",
    "sm2 = TensorProduct(Id, sm)\n",
    "sp2 = TensorProduct(Id, sp)"
   ]
  },
  {
   "cell_type": "code",
   "execution_count": 47,
   "metadata": {
    "collapsed": false
   },
   "outputs": [
    {
     "data": {
      "text/html": [
       "$a_H+a_H^\\dagger=\\left[\\begin{matrix}0 & - s & \\sqrt{s^{2} + 1} & 0\\\\- s & 0 & 0 & \\sqrt{s^{2} + 1}\\\\\\sqrt{s^{2} + 1} & 0 & 0 & - s\\\\0 & \\sqrt{s^{2} + 1} & - s & 0\\end{matrix}\\right]$"
      ],
      "text/plain": [
       "<IPython.core.display.HTML object>"
      ]
     },
     "execution_count": 47,
     "metadata": {},
     "output_type": "execute_result"
    }
   ],
   "source": [
    "s = sy.symbols('s', positive=True)\n",
    "aH = (sy.sqrt(s**2 + 1)*sm1 - s*sp2)\n",
    "XH = aH + aH.H\n",
    "HTML(r'$a_H+a_H^\\dagger=' + sy.latex(XH) + '$')"
   ]
  },
  {
   "cell_type": "code",
   "execution_count": 48,
   "metadata": {
    "collapsed": false
   },
   "outputs": [
    {
     "data": {
      "image/png": "[encoded data removed]",
      "text/latex": [
       "$$\\left \\{ - s - \\sqrt{s^{2} + 1} : 1, \\quad - s + \\sqrt{s^{2} + 1} : 1, \\quad s - \\sqrt{s^{2} + 1} : 1, \\quad s + \\sqrt{s^{2} + 1} : 1\\right \\}$$"
      ],
      "text/plain": [
       "⎧        ________             ________            ________            ________\n",
       "⎨       ╱  2                 ╱  2                ╱  2                ╱  2     \n",
       "⎩-s - ╲╱  s  + 1 : 1, -s + ╲╱  s  + 1 : 1, s - ╲╱  s  + 1 : 1, s + ╲╱  s  + 1 \n",
       "\n",
       "   ⎫\n",
       "   ⎬\n",
       ": 1⎭"
      ]
     },
     "execution_count": 48,
     "metadata": {},
     "output_type": "execute_result"
    }
   ],
   "source": [
    "XH.eigenvals()"
   ]
  },
  {
   "cell_type": "code",
   "execution_count": 51,
   "metadata": {
    "collapsed": false
   },
   "outputs": [],
   "source": [
    "eigdecomp = XH.eigenvects()"
   ]
  },
  {
   "cell_type": "code",
   "execution_count": 54,
   "metadata": {
    "collapsed": false
   },
   "outputs": [
    {
     "data": {
      "text/latex": [
       "$$\\left [ \\left[\\begin{matrix}-1\\\\-1\\\\1\\\\1\\end{matrix}\\right], \\quad \\left[\\begin{matrix}1\\\\1\\\\1\\\\1\\end{matrix}\\right], \\quad \\left[\\begin{matrix}1\\\\-1\\\\-1\\\\1\\end{matrix}\\right], \\quad \\left[\\begin{matrix}-1\\\\1\\\\-1\\\\1\\end{matrix}\\right]\\right ]$$"
      ],
      "text/plain": [
       "⎡⎡-1⎤, ⎡1⎤, ⎡1 ⎤, ⎡-1⎤⎤\n",
       "⎢⎢  ⎥  ⎢ ⎥  ⎢  ⎥  ⎢  ⎥⎥\n",
       "⎢⎢-1⎥  ⎢1⎥  ⎢-1⎥  ⎢1 ⎥⎥\n",
       "⎢⎢  ⎥  ⎢ ⎥  ⎢  ⎥  ⎢  ⎥⎥\n",
       "⎢⎢1 ⎥  ⎢1⎥  ⎢-1⎥  ⎢-1⎥⎥\n",
       "⎢⎢  ⎥  ⎢ ⎥  ⎢  ⎥  ⎢  ⎥⎥\n",
       "⎣⎣1 ⎦  ⎣1⎦  ⎣1 ⎦  ⎣1 ⎦⎦"
      ]
     },
     "execution_count": 54,
     "metadata": {},
     "output_type": "execute_result"
    }
   ],
   "source": [
    "eigvects = [sy.simplify(element[2][0]) for element in eigdecomp]\n",
    "eigvects"
   ]
  },
  {
   "cell_type": "code",
   "execution_count": 55,
   "metadata": {
    "collapsed": false
   },
   "outputs": [
    {
     "data": {
      "image/png": "[encoded data removed]",
      "text/latex": [
       "$$\\left [ - s - \\sqrt{s^{2} + 1}, \\quad - s + \\sqrt{s^{2} + 1}, \\quad s - \\sqrt{s^{2} + 1}, \\quad s + \\sqrt{s^{2} + 1}\\right ]$$"
      ],
      "text/plain": [
       "⎡        ________          ________         ________         ________⎤\n",
       "⎢       ╱  2              ╱  2             ╱  2             ╱  2     ⎥\n",
       "⎣-s - ╲╱  s  + 1 , -s + ╲╱  s  + 1 , s - ╲╱  s  + 1 , s + ╲╱  s  + 1 ⎦"
      ]
     },
     "execution_count": 55,
     "metadata": {},
     "output_type": "execute_result"
    }
   ],
   "source": [
    "eigvals = [element[0] for element in eigdecomp]\n",
    "eigvals"
   ]
  },
  {
   "cell_type": "markdown",
   "metadata": {},
   "source": [
    "### State update"
   ]
  },
  {
   "cell_type": "markdown",
   "metadata": {},
   "source": [
    "Suppose we have Kraus operators $K_\\pm=\\frac{1}{2}(I\\pm\\epsilon\\sigma_z)$,\n",
    "and we want to know what our updated state"
   ]
  },
  {
   "cell_type": "markdown",
   "metadata": {},
   "source": [
    "\\begin{align}\n",
    "    \\rho_\\pm&=\\frac{K_\\pm\\rho K_\\pm^\\dagger}{\\operatorname{tr}[K_\\pm^\\dagger K_\\pm]}\n",
    "\\end{align}"
   ]
  },
  {
   "cell_type": "markdown",
   "metadata": {},
   "source": [
    "will look like."
   ]
  },
  {
   "cell_type": "markdown",
   "metadata": {},
   "source": [
    "First let's define Pauli operators"
   ]
  },
  {
   "cell_type": "markdown",
   "metadata": {},
   "source": [
    "\\begin{align}\n",
    "    \\sigma_x&=\\sigma_++\\sigma_- \\\\\n",
    "    \\sigma_y&=-i\\sigma_++i\\sigma_- \\\\\n",
    "    \\sigma_z&=I-2\\sigma_-\\sigma_+\n",
    "\\end{align}"
   ]
  },
  {
   "cell_type": "code",
   "execution_count": 81,
   "metadata": {
    "collapsed": false
   },
   "outputs": [
    {
     "data": {
      "text/latex": [
       "$$\\left ( \\left[\\begin{matrix}0 & 1\\\\1 & 0\\end{matrix}\\right], \\quad \\left[\\begin{matrix}0 & - i\\\\i & 0\\end{matrix}\\right], \\quad \\left[\\begin{matrix}1 & 0\\\\0 & -1\\end{matrix}\\right]\\right )$$"
      ],
      "text/plain": [
       "⎛⎡0  1⎤, ⎡0  -ⅈ⎤, ⎡1  0 ⎤⎞\n",
       "⎜⎢    ⎥  ⎢     ⎥  ⎢     ⎥⎟\n",
       "⎝⎣1  0⎦  ⎣ⅈ  0 ⎦  ⎣0  -1⎦⎠"
      ]
     },
     "execution_count": 81,
     "metadata": {},
     "output_type": "execute_result"
    }
   ],
   "source": [
    "X = sp + sm\n",
    "Y = -sy.I * sp + sy.I*sm\n",
    "Z = Id - 2 * sm * sp\n",
    "X, Y, Z"
   ]
  },
  {
   "cell_type": "markdown",
   "metadata": {},
   "source": [
    "Then build $\\rho$ and $K_\\pm$ out of these operators."
   ]
  },
  {
   "cell_type": "code",
   "execution_count": 83,
   "metadata": {
    "collapsed": false
   },
   "outputs": [
    {
     "data": {
      "text/latex": [
       "$$\\left[\\begin{matrix}\\frac{z}{2} + \\frac{1}{2} & \\frac{x}{2} - \\frac{i y}{2}\\\\\\frac{x}{2} + \\frac{i y}{2} & - \\frac{z}{2} + \\frac{1}{2}\\end{matrix}\\right]$$"
      ],
      "text/plain": [
       "⎡ z   1   x   ⅈ⋅y⎤\n",
       "⎢ ─ + ─   ─ - ───⎥\n",
       "⎢ 2   2   2    2 ⎥\n",
       "⎢                ⎥\n",
       "⎢x   ⅈ⋅y    z   1⎥\n",
       "⎢─ + ───  - ─ + ─⎥\n",
       "⎣2    2     2   2⎦"
      ]
     },
     "execution_count": 83,
     "metadata": {},
     "output_type": "execute_result"
    }
   ],
   "source": [
    "rho = (Id + x*X + y*Y + z*Z) / 2\n",
    "rho"
   ]
  },
  {
   "cell_type": "code",
   "execution_count": 84,
   "metadata": {
    "collapsed": false
   },
   "outputs": [
    {
     "data": {
      "text/latex": [
       "$$\\left ( \\left[\\begin{matrix}\\frac{\\epsilon}{2} + \\frac{1}{2} & 0\\\\0 & - \\frac{\\epsilon}{2} + \\frac{1}{2}\\end{matrix}\\right], \\quad \\left[\\begin{matrix}- \\frac{\\epsilon}{2} + \\frac{1}{2} & 0\\\\0 & \\frac{\\epsilon}{2} + \\frac{1}{2}\\end{matrix}\\right]\\right )$$"
      ],
      "text/plain": [
       "⎛⎡ε   1         ⎤  ⎡  ε   1       ⎤⎞\n",
       "⎜⎢─ + ─     0   ⎥, ⎢- ─ + ─    0  ⎥⎟\n",
       "⎜⎢2   2         ⎥  ⎢  2   2       ⎥⎟\n",
       "⎜⎢              ⎥  ⎢              ⎥⎟\n",
       "⎜⎢         ε   1⎥  ⎢         ε   1⎥⎟\n",
       "⎜⎢  0    - ─ + ─⎥  ⎢   0     ─ + ─⎥⎟\n",
       "⎝⎣         2   2⎦  ⎣         2   2⎦⎠"
      ]
     },
     "execution_count": 84,
     "metadata": {},
     "output_type": "execute_result"
    }
   ],
   "source": [
    "eps = sy.symbols('epsilon', positive=True)\n",
    "Kp = (Id + eps * Z) / 2\n",
    "Km = (Id - eps * Z) / 2\n",
    "Kp, Km"
   ]
  },
  {
   "cell_type": "markdown",
   "metadata": {},
   "source": [
    "Finally, calculate the state update:"
   ]
  },
  {
   "cell_type": "code",
   "execution_count": 87,
   "metadata": {
    "collapsed": false
   },
   "outputs": [
    {
     "data": {
      "text/latex": [
       "$$\\left[\\begin{matrix}\\frac{\\left(\\frac{\\epsilon}{2} + \\frac{1}{2}\\right)^{2} \\left(\\frac{z}{2} + \\frac{1}{2}\\right)}{\\left(- \\frac{\\epsilon}{2} + \\frac{1}{2}\\right)^{2} \\left(- \\frac{z}{2} + \\frac{1}{2}\\right) + \\left(\\frac{\\epsilon}{2} + \\frac{1}{2}\\right)^{2} \\left(\\frac{z}{2} + \\frac{1}{2}\\right)} & \\frac{\\left(- \\frac{\\epsilon}{2} + \\frac{1}{2}\\right) \\left(\\frac{\\epsilon}{2} + \\frac{1}{2}\\right) \\left(\\frac{x}{2} - \\frac{i y}{2}\\right)}{\\left(- \\frac{\\epsilon}{2} + \\frac{1}{2}\\right)^{2} \\left(- \\frac{z}{2} + \\frac{1}{2}\\right) + \\left(\\frac{\\epsilon}{2} + \\frac{1}{2}\\right)^{2} \\left(\\frac{z}{2} + \\frac{1}{2}\\right)}\\\\\\frac{\\left(- \\frac{\\epsilon}{2} + \\frac{1}{2}\\right) \\left(\\frac{\\epsilon}{2} + \\frac{1}{2}\\right) \\left(\\frac{x}{2} + \\frac{i y}{2}\\right)}{\\left(- \\frac{\\epsilon}{2} + \\frac{1}{2}\\right)^{2} \\left(- \\frac{z}{2} + \\frac{1}{2}\\right) + \\left(\\frac{\\epsilon}{2} + \\frac{1}{2}\\right)^{2} \\left(\\frac{z}{2} + \\frac{1}{2}\\right)} & \\frac{\\left(- \\frac{\\epsilon}{2} + \\frac{1}{2}\\right)^{2} \\left(- \\frac{z}{2} + \\frac{1}{2}\\right)}{\\left(- \\frac{\\epsilon}{2} + \\frac{1}{2}\\right)^{2} \\left(- \\frac{z}{2} + \\frac{1}{2}\\right) + \\left(\\frac{\\epsilon}{2} + \\frac{1}{2}\\right)^{2} \\left(\\frac{z}{2} + \\frac{1}{2}\\right)}\\end{matrix}\\right]$$"
      ],
      "text/plain": [
       "⎡                   2                                                         \n",
       "⎢            ⎛ε   1⎞  ⎛z   1⎞                   ⎛  ε   1⎞ ⎛ε   1⎞ ⎛x   ⅈ⋅y⎞   \n",
       "⎢            ⎜─ + ─⎟ ⋅⎜─ + ─⎟                   ⎜- ─ + ─⎟⋅⎜─ + ─⎟⋅⎜─ - ───⎟   \n",
       "⎢            ⎝2   2⎠  ⎝2   2⎠                   ⎝  2   2⎠ ⎝2   2⎠ ⎝2    2 ⎠   \n",
       "⎢───────────────────────────────────────  ────────────────────────────────────\n",
       "⎢         2                    2                   2                    2     \n",
       "⎢⎛  ε   1⎞  ⎛  z   1⎞   ⎛ε   1⎞  ⎛z   1⎞  ⎛  ε   1⎞  ⎛  z   1⎞   ⎛ε   1⎞  ⎛z  \n",
       "⎢⎜- ─ + ─⎟ ⋅⎜- ─ + ─⎟ + ⎜─ + ─⎟ ⋅⎜─ + ─⎟  ⎜- ─ + ─⎟ ⋅⎜- ─ + ─⎟ + ⎜─ + ─⎟ ⋅⎜─ +\n",
       "⎢⎝  2   2⎠  ⎝  2   2⎠   ⎝2   2⎠  ⎝2   2⎠  ⎝  2   2⎠  ⎝  2   2⎠   ⎝2   2⎠  ⎝2  \n",
       "⎢                                                                             \n",
       "⎢                                                            2                \n",
       "⎢      ⎛  ε   1⎞ ⎛ε   1⎞ ⎛x   ⅈ⋅y⎞                  ⎛  ε   1⎞  ⎛  z   1⎞      \n",
       "⎢      ⎜- ─ + ─⎟⋅⎜─ + ─⎟⋅⎜─ + ───⎟                  ⎜- ─ + ─⎟ ⋅⎜- ─ + ─⎟      \n",
       "⎢      ⎝  2   2⎠ ⎝2   2⎠ ⎝2    2 ⎠                  ⎝  2   2⎠  ⎝  2   2⎠      \n",
       "⎢───────────────────────────────────────  ────────────────────────────────────\n",
       "⎢         2                    2                   2                    2     \n",
       "⎢⎛  ε   1⎞  ⎛  z   1⎞   ⎛ε   1⎞  ⎛z   1⎞  ⎛  ε   1⎞  ⎛  z   1⎞   ⎛ε   1⎞  ⎛z  \n",
       "⎢⎜- ─ + ─⎟ ⋅⎜- ─ + ─⎟ + ⎜─ + ─⎟ ⋅⎜─ + ─⎟  ⎜- ─ + ─⎟ ⋅⎜- ─ + ─⎟ + ⎜─ + ─⎟ ⋅⎜─ +\n",
       "⎣⎝  2   2⎠  ⎝  2   2⎠   ⎝2   2⎠  ⎝2   2⎠  ⎝  2   2⎠  ⎝  2   2⎠   ⎝2   2⎠  ⎝2  \n",
       "\n",
       "   ⎤\n",
       "   ⎥\n",
       "   ⎥\n",
       "   ⎥\n",
       "───⎥\n",
       "   ⎥\n",
       " 1⎞⎥\n",
       " ─⎟⎥\n",
       " 2⎠⎥\n",
       "   ⎥\n",
       "   ⎥\n",
       "   ⎥\n",
       "   ⎥\n",
       "   ⎥\n",
       "───⎥\n",
       "   ⎥\n",
       " 1⎞⎥\n",
       " ─⎟⎥\n",
       " 2⎠⎦"
      ]
     },
     "execution_count": 87,
     "metadata": {},
     "output_type": "execute_result"
    }
   ],
   "source": [
    "rho_p = Kp * rho * Kp / sy.trace(Kp * Kp * rho)\n",
    "rho_p"
   ]
  },
  {
   "cell_type": "code",
   "execution_count": 88,
   "metadata": {
    "collapsed": false
   },
   "outputs": [
    {
     "data": {
      "text/latex": [
       "$$\\left[\\begin{matrix}- \\frac{\\left(\\epsilon + 1\\right)^{2} \\left(z + 1\\right)}{\\left(\\epsilon - 1\\right)^{2} \\left(z - 1\\right) - \\left(\\epsilon + 1\\right)^{2} \\left(z + 1\\right)} & \\frac{\\left(\\epsilon - 1\\right) \\left(\\epsilon + 1\\right) \\left(x - i y\\right)}{\\left(\\epsilon - 1\\right)^{2} \\left(z - 1\\right) - \\left(\\epsilon + 1\\right)^{2} \\left(z + 1\\right)}\\\\\\frac{\\left(\\epsilon - 1\\right) \\left(\\epsilon + 1\\right) \\left(x + i y\\right)}{\\left(\\epsilon - 1\\right)^{2} \\left(z - 1\\right) - \\left(\\epsilon + 1\\right)^{2} \\left(z + 1\\right)} & \\frac{\\left(\\epsilon - 1\\right)^{2} \\left(z - 1\\right)}{\\left(\\epsilon - 1\\right)^{2} \\left(z - 1\\right) - \\left(\\epsilon + 1\\right)^{2} \\left(z + 1\\right)}\\end{matrix}\\right]$$"
      ],
      "text/plain": [
       "⎡                 2                                                      ⎤\n",
       "⎢         -(ε + 1) ⋅(z + 1)                (ε - 1)⋅(ε + 1)⋅(x - ⅈ⋅y)     ⎥\n",
       "⎢───────────────────────────────────  ───────────────────────────────────⎥\n",
       "⎢       2                  2                 2                  2        ⎥\n",
       "⎢(ε - 1) ⋅(z - 1) - (ε + 1) ⋅(z + 1)  (ε - 1) ⋅(z - 1) - (ε + 1) ⋅(z + 1)⎥\n",
       "⎢                                                                        ⎥\n",
       "⎢                                                      2                 ⎥\n",
       "⎢     (ε - 1)⋅(ε + 1)⋅(x + ⅈ⋅y)                 (ε - 1) ⋅(z - 1)         ⎥\n",
       "⎢───────────────────────────────────  ───────────────────────────────────⎥\n",
       "⎢       2                  2                 2                  2        ⎥\n",
       "⎣(ε - 1) ⋅(z - 1) - (ε + 1) ⋅(z + 1)  (ε - 1) ⋅(z - 1) - (ε + 1) ⋅(z + 1)⎦"
      ]
     },
     "execution_count": 88,
     "metadata": {},
     "output_type": "execute_result"
    }
   ],
   "source": [
    "sy.simplify(rho_p)"
   ]
  },
  {
   "cell_type": "markdown",
   "metadata": {},
   "source": [
    "If $\\epsilon$ is small, we might only want to keep track of terms up to a certain\n",
    "order in $\\epsilon$. Let's expand the denominator to second order in $\\epsilon$\n",
    "using `series`:"
   ]
  },
  {
   "cell_type": "code",
   "execution_count": 97,
   "metadata": {
    "collapsed": false
   },
   "outputs": [
    {
     "data": {
      "image/png": "[encoded data removed]",
      "text/latex": [
       "$$4 - 8 \\epsilon z + \\epsilon^{2} \\left(16 z^{2} - 4\\right) + \\mathcal{O}\\left(\\epsilon^{3}\\right)$$"
      ],
      "text/plain": [
       "             2 ⎛    2    ⎞    ⎛ 3⎞\n",
       "4 - 8⋅ε⋅z + ε ⋅⎝16⋅z  - 4⎠ + O⎝ε ⎠"
      ]
     },
     "execution_count": 97,
     "metadata": {},
     "output_type": "execute_result"
    }
   ],
   "source": [
    "sy.series(1 / sy.trace(Kp * Kp * rho), eps, n=3)"
   ]
  },
  {
   "cell_type": "markdown",
   "metadata": {},
   "source": [
    "The numerator is already only second order in $\\epsilon$:"
   ]
  },
  {
   "cell_type": "code",
   "execution_count": 99,
   "metadata": {
    "collapsed": false
   },
   "outputs": [
    {
     "data": {
      "text/latex": [
       "$$\\left[\\begin{matrix}\\frac{\\epsilon^{2} z}{8} + \\frac{\\epsilon^{2}}{8} + \\frac{\\epsilon z}{4} + \\frac{\\epsilon}{4} + \\frac{z}{8} + \\frac{1}{8} & - \\frac{\\epsilon^{2} x}{8} + \\frac{i y}{8} \\epsilon^{2} + \\frac{x}{8} - \\frac{i y}{8}\\\\- \\frac{\\epsilon^{2} x}{8} - \\frac{i y}{8} \\epsilon^{2} + \\frac{x}{8} + \\frac{i y}{8} & - \\frac{\\epsilon^{2} z}{8} + \\frac{\\epsilon^{2}}{8} + \\frac{\\epsilon z}{4} - \\frac{\\epsilon}{4} - \\frac{z}{8} + \\frac{1}{8}\\end{matrix}\\right]$$"
      ],
      "text/plain": [
       "⎡ 2      2                         2        2              ⎤\n",
       "⎢ε ⋅z   ε    ε⋅z   ε   z   1      ε ⋅x   ⅈ⋅ε ⋅y   x   ⅈ⋅y  ⎥\n",
       "⎢──── + ── + ─── + ─ + ─ + ─    - ──── + ────── + ─ - ───  ⎥\n",
       "⎢ 8     8     4    4   8   8       8       8      8    8   ⎥\n",
       "⎢                                                          ⎥\n",
       "⎢    2        2                  2      2                  ⎥\n",
       "⎢   ε ⋅x   ⅈ⋅ε ⋅y   x   ⅈ⋅y     ε ⋅z   ε    ε⋅z   ε   z   1⎥\n",
       "⎢ - ──── - ────── + ─ + ───   - ──── + ── + ─── - ─ - ─ + ─⎥\n",
       "⎣    8       8      8    8       8     8     4    4   8   8⎦"
      ]
     },
     "execution_count": 99,
     "metadata": {},
     "output_type": "execute_result"
    }
   ],
   "source": [
    "sy.expand(Kp * rho * Kp)"
   ]
  },
  {
   "cell_type": "markdown",
   "metadata": {},
   "source": [
    "When we multiply the two terms together, the $\\mathcal{O}(\\epsilon^3)$ term swallows up\n",
    "higher order products automatically:"
   ]
  },
  {
   "cell_type": "code",
   "execution_count": 98,
   "metadata": {
    "collapsed": false
   },
   "outputs": [
    {
     "data": {
      "text/latex": [
       "$$\\left[\\begin{matrix}\\frac{1}{2} + \\frac{z}{2} + \\epsilon - \\epsilon z^{2} - 2 \\epsilon^{2} z + 2 \\epsilon^{2} z^{3} + \\mathcal{O}\\left(\\epsilon^{3}\\right) & - \\frac{i y}{2} + \\frac{x}{2} + i \\epsilon y z - \\epsilon x z + i \\epsilon^{2} y - 2 i \\epsilon^{2} y z^{2} - \\epsilon^{2} x + 2 \\epsilon^{2} x z^{2} + \\mathcal{O}\\left(\\epsilon^{3}\\right)\\\\\\frac{i y}{2} + \\frac{x}{2} - i \\epsilon y z - \\epsilon x z - i \\epsilon^{2} y + 2 i \\epsilon^{2} y z^{2} - \\epsilon^{2} x + 2 \\epsilon^{2} x z^{2} + \\mathcal{O}\\left(\\epsilon^{3}\\right) & \\frac{1}{2} - \\frac{z}{2} - \\epsilon + \\epsilon z^{2} + 2 \\epsilon^{2} z - 2 \\epsilon^{2} z^{3} + \\mathcal{O}\\left(\\epsilon^{3}\\right)\\end{matrix}\\right]$$"
      ],
      "text/plain": [
       "⎡                1   z          2      2        2  3    ⎛ 3⎞                  \n",
       "⎢                ─ + ─ + ε - ε⋅z  - 2⋅ε ⋅z + 2⋅ε ⋅z  + O⎝ε ⎠                  \n",
       "⎢                2   2                                                        \n",
       "⎢                                                                             \n",
       "⎢ⅈ⋅y   x                        2          2    2    2        2    2    ⎛ 3⎞  \n",
       "⎢─── + ─ - ⅈ⋅ε⋅y⋅z - ε⋅x⋅z - ⅈ⋅ε ⋅y + 2⋅ⅈ⋅ε ⋅y⋅z  - ε ⋅x + 2⋅ε ⋅x⋅z  + O⎝ε ⎠  \n",
       "⎣ 2    2                                                                      \n",
       "\n",
       "  ⅈ⋅y   x                        2          2    2    2        2    2    ⎛ 3⎞⎤\n",
       "- ─── + ─ + ⅈ⋅ε⋅y⋅z - ε⋅x⋅z + ⅈ⋅ε ⋅y - 2⋅ⅈ⋅ε ⋅y⋅z  - ε ⋅x + 2⋅ε ⋅x⋅z  + O⎝ε ⎠⎥\n",
       "   2    2                                                                    ⎥\n",
       "                                                                             ⎥\n",
       "                 1   z          2      2        2  3    ⎛ 3⎞                 ⎥\n",
       "                 ─ - ─ - ε + ε⋅z  + 2⋅ε ⋅z - 2⋅ε ⋅z  + O⎝ε ⎠                 ⎥\n",
       "                 2   2                                                       ⎦"
      ]
     },
     "execution_count": 98,
     "metadata": {},
     "output_type": "execute_result"
    }
   ],
   "source": [
    "sy.expand(sy.series(1 / sy.trace(Kp * Kp * rho), eps, n=3) * Kp * rho * Kp)"
   ]
  },
  {
   "cell_type": "code",
   "execution_count": 101,
   "metadata": {
    "collapsed": false
   },
   "outputs": [
    {
     "data": {
      "image/png": "[encoded data removed]",
      "text/latex": [
       "$$1 + \\mathcal{O}\\left(\\epsilon^{3}\\right)$$"
      ],
      "text/plain": [
       "     ⎛ 3⎞\n",
       "1 + O⎝ε ⎠"
      ]
     },
     "execution_count": 101,
     "metadata": {},
     "output_type": "execute_result"
    }
   ],
   "source": [
    "sy.trace(sy.expand(sy.series(1 / sy.trace(Kp * Kp * rho), eps, n=3) * Kp * rho * Kp))"
   ]
  },
  {
   "cell_type": "code",
   "execution_count": null,
   "metadata": {
    "collapsed": true
   },
   "outputs": [],
   "source": []
  }
 ],
 "metadata": {
  "kernelspec": {
   "display_name": "Python 3",
   "language": "python",
   "name": "python3"
  },
  "language_info": {
   "codemirror_mode": {
    "name": "ipython",
    "version": 3
   },
   "file_extension": ".py",
   "mimetype": "text/x-python",
   "name": "python",
   "nbconvert_exporter": "python",
   "pygments_lexer": "ipython3",
   "version": "3.5.2"
  }
 },
 "nbformat": 4,
 "nbformat_minor": 0
}
